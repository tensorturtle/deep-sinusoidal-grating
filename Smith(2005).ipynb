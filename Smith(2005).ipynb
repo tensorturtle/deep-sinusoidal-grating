{
 "cells": [
  {
   "cell_type": "markdown",
   "id": "f6e782f4-df52-4d63-a6a3-1cc07f308f7a",
   "metadata": {
    "tags": []
   },
   "source": [
    "Notes on:\n",
    "\n",
    "# Visual Search and the Collapse of Categorization\n",
    "\n",
    "Smith et al (2005)"
   ]
  },
  {
   "cell_type": "markdown",
   "id": "ebdaf5ec-f2ec-479e-9f0e-3dfb13749e66",
   "metadata": {},
   "source": [
    "```\n",
    "Second, these materials are well\n",
    "known for fostering the use of category-general knowledge (pro-\n",
    "totypes)—indeed, these materials inaugurated the experimental\n",
    "study of prototypes (Posner & Keele, 1968) and provide the\n",
    "strongest current demonstrations of prototype abstraction in cate-\n",
    "gory learning (Knowlton & Squire, 1993; Smith & Minda, 2002)\n",
    "```\n",
    "\n",
    "+ Prototypes might exist, but be too high dimensional for us to easily visualize or verbalize."
   ]
  },
  {
   "cell_type": "markdown",
   "id": "247fc7d6-7bf4-4195-84ae-736d4ebfcfc2",
   "metadata": {},
   "source": [
    "```\n",
    " Fifth, the presence of 9 dots or 18 stimulus coordinates\n",
    "in the dot-distortion stimuli provided us with a psychological space\n",
    "of very high dimensionality, perhaps capturing something of the\n",
    "probabilistic stimulus variability and complex similarity relation-\n",
    "ships found in real-world perceptual classes, and certainly provid-\n",
    "ing far more complex stimuli than are presented in many studies of\n",
    "visual search. \n",
    "```\n",
    "+ The internal dimensionality required for object categorization is a great deal larger than was previously thought."
   ]
  },
  {
   "cell_type": "markdown",
   "id": "42c1c85d-29fd-4418-a6e2-a520096b7177",
   "metadata": {},
   "source": [
    "```\n",
    "We hoped the VSC task would\n",
    "ground the study of these screening tasks in the tasks and stimuli\n",
    "of the categorization literature, so that some basic information-\n",
    "processing principles could be established, of course pending\n",
    "confirmation that the derived information-processing principles\n",
    "generalize across stimulus domains.\n",
    "```\n",
    "+ Unfortunately, this kind of ground-up establishment won't work on truly connectivist systems."
   ]
  },
  {
   "cell_type": "markdown",
   "id": "be296371-e84b-4f6a-aa49-5c74390f8f55",
   "metadata": {},
   "source": [
    "What does connectivism mean? \n",
    "\n",
    "It means we think top-down, instead of bottom-up. \n",
    "\n",
    "It means we might have to adjust our ways of thinking about the process of science.\n",
    "\n",
    "It means we have to start getting comfortable with abstract, high-dimensional representations that are impossible to grasp intuitively."
   ]
  },
  {
   "cell_type": "markdown",
   "id": "cee05fbe-9c15-40ea-a864-8432a498b7cd",
   "metadata": {},
   "source": [
    "The complexity of stimuli here does not breach the threshold for information that we need to effectively categorize and locate objects."
   ]
  },
  {
   "cell_type": "markdown",
   "id": "941ae07e-0ef8-4df8-926b-c9b9d81041a7",
   "metadata": {},
   "source": [
    "While the precise mechanism employed in today's bleeding edge ANN-based object detectors are somewhat distant from their biological counterparts, the core idea remains: "
   ]
  },
  {
   "cell_type": "markdown",
   "id": "1a5a21fb-b588-40e9-bd44-c05f3343d666",
   "metadata": {},
   "source": [
    "The present research calls for a way to dynamically generate training data, in a truly novel way that allows researchers to reliably control the variables, yet generate highly complex images."
   ]
  },
  {
   "cell_type": "markdown",
   "id": "3770589f-6963-4503-b2ad-cf563eb284cc",
   "metadata": {},
   "source": [
    "There is nothing wrong with this study except the relation it draws to daily life. This research is bound to studying how human vision perception/categorization works under artificial, geometric conditions. And there are plenty of conditions like that to consider. However, I disagree with the authors when they say that `it seems possible that the results from different visual search tasks in different domains - both laboratory and ecological - will turn out to cross-generalize`. I think low-dimensional controlled research and environmental vision will be parallel, cross-pollinating, but not unifying, fields.\n",
    "\n",
    "This article speculates about how visual search might work in daily life, but now there is no need to speculate. We have artificial systems that can do precisely this, and the methods to extract its internal state (something that is much harder to do with humans).\n",
    "\n",
    "After all, for many of us, a significant part of 'daily life' consists of looking at geometric objects on a computer display."
   ]
  },
  {
   "cell_type": "code",
   "execution_count": null,
   "id": "77678f38-589a-4902-b6dc-19e87e686a3c",
   "metadata": {},
   "outputs": [],
   "source": []
  }
 ],
 "metadata": {
  "kernelspec": {
   "display_name": "Python 3 (ipykernel)",
   "language": "python",
   "name": "python3"
  },
  "language_info": {
   "codemirror_mode": {
    "name": "ipython",
    "version": 3
   },
   "file_extension": ".py",
   "mimetype": "text/x-python",
   "name": "python",
   "nbconvert_exporter": "python",
   "pygments_lexer": "ipython3",
   "version": "3.8.10"
  }
 },
 "nbformat": 4,
 "nbformat_minor": 5
}
