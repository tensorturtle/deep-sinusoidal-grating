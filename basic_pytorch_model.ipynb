{
 "cells": [
  {
   "cell_type": "code",
   "execution_count": 1,
   "id": "bc2aa682-b2bf-443a-a906-937c58924ab7",
   "metadata": {
    "tags": []
   },
   "outputs": [],
   "source": [
    "import torch\n",
    "import torch.nn as nn\n",
    "import torch.optim as optim\n",
    "import torch.nn.functional as F\n",
    "\n",
    "import torchvision\n",
    "import torchvision.transforms as transforms\n",
    "\n",
    "import matplotlib.pyplot as plt\n",
    "import numpy as np\n",
    "\n",
    "from ipywidgets import interact"
   ]
  },
  {
   "cell_type": "code",
   "execution_count": 2,
   "id": "d4b1c562-94d4-4a32-b446-269dbafb8631",
   "metadata": {},
   "outputs": [],
   "source": [
    "# manual seed for reproducibility\n",
    "torch.manual_seed(855413)\n",
    "np.random.seed(9991)"
   ]
  },
  {
   "cell_type": "code",
   "execution_count": 3,
   "id": "f5942401-89c3-4c39-b12f-210515d2f111",
   "metadata": {},
   "outputs": [],
   "source": [
    "transform = transforms.Compose(\n",
    "    [transforms.PILToTensor(),\n",
    "     transforms.ConvertImageDtype(torch.float)\n",
    "    ])"
   ]
  },
  {
   "cell_type": "markdown",
   "id": "5c84805a-5c5a-4f05-9d5d-6b916300f9b3",
   "metadata": {
    "tags": []
   },
   "source": [
    "# Creating Sinusoidal Grating Dataset"
   ]
  },
  {
   "cell_type": "code",
   "execution_count": 4,
   "id": "e9c62866-2696-478c-8ac4-9a120555a20c",
   "metadata": {},
   "outputs": [],
   "source": [
    "from SineGratesDataset import SineGrates"
   ]
  },
  {
   "cell_type": "code",
   "execution_count": 5,
   "id": "bb92c1dd-fbfc-4936-a242-901a2a456bfb",
   "metadata": {},
   "outputs": [],
   "source": [
    "cat_scheme = 'ii'"
   ]
  },
  {
   "cell_type": "code",
   "execution_count": 7,
   "id": "db253fb2-c5d5-4841-a9cd-f539dfd3358b",
   "metadata": {},
   "outputs": [],
   "source": [
    "trainset = SineGrates(cat_scheme=cat_scheme, dist_params=dist_params, length=1000, transform=transform)\n",
    "#testset = trainset\n",
    "testset = SineGrates(cat_scheme=cat_scheme, dist_params=dist_params, length=10, transform=transform)"
   ]
  },
  {
   "cell_type": "markdown",
   "id": "5eb83314-c85c-4a83-ba88-1a4f70b5f185",
   "metadata": {},
   "source": [
    "## Visualize and modify the distribution parameters\n",
    "\n",
    "The dataset will automatically reflect these manual changes when generating the data."
   ]
  },
  {
   "cell_type": "code",
   "execution_count": 8,
   "id": "1edb7779-2e07-43f9-ba27-520d8fe3a86b",
   "metadata": {},
   "outputs": [],
   "source": [
    "def modify_dist_params_ii(**kwargs):\n",
    "    new_params = {\n",
    "        'a_means':[kwargs['a_means_x'], kwargs['a_means_y']],\n",
    "        'b_means':[kwargs['b_means_x'], kwargs['b_means_y']],\n",
    "        'a_covariances':[[kwargs['a_cov_x'],0],[0,kwargs['a_cov_y']]],\n",
    "        'b_covariances':[[kwargs['b_cov_x'],0],[0,kwargs['b_cov_y']]]\n",
    "    }\n",
    "    trainset.set_dist_params(new_params)\n",
    "    testset.set_dist_params(new_params)\n",
    "    plt.show(trainset.plot_final())\n",
    "    plt.show(testset.plot_final())"
   ]
  },
  {
   "cell_type": "code",
   "execution_count": 14,
   "id": "fca29a9b-294f-425b-9180-fda5dd139856",
   "metadata": {},
   "outputs": [],
   "source": [
    "def modify_dist_params_rb(**kwargs):\n",
    "    new_params = {\n",
    "        'a_means':[[kwargs['a_means_1_x'], kwargs['a_means_1_y']],\n",
    "                   [kwargs['a_means_2_x'], kwargs['a_means_2_y']]],\n",
    "        'b_means':[[kwargs['b_means_1_x'], kwargs['b_means_1_y']],\n",
    "                   [kwargs['b_means_2_x'], kwargs['b_means_2_y']]],\n",
    "        'a_covariances':[[[kwargs['a_cov_1_x'],0],[0,kwargs['a_cov_1_y']]],\n",
    "                         [[kwargs['a_cov_2_x'],0],[0,kwargs['a_cov_2_y']]]],\n",
    "        'b_covariances':[[[kwargs['b_cov_1_x'],0],[0,kwargs['b_cov_1_y']]],\n",
    "                         [[kwargs['b_cov_2_x'],0],[0,kwargs['b_cov_2_y']]]],\n",
    "    }\n",
    "    trainset.set_dist_params(new_params)\n",
    "    testset.set_dist_params(new_params)\n",
    "    plt.show(trainset.plot_final())\n",
    "    plt.show(testset.plot_final())"
   ]
  },
  {
   "cell_type": "code",
   "execution_count": 15,
   "id": "537c294f-1955-44fe-a8e1-b711f4d71ccd",
   "metadata": {},
   "outputs": [],
   "source": [
    "mean_range = 40\n",
    "cov_range = 100"
   ]
  },
  {
   "cell_type": "code",
   "execution_count": 16,
   "id": "ba70d1b5-8610-4238-b6f2-ce58fd50e8b0",
   "metadata": {},
   "outputs": [],
   "source": [
    "rb_params = {\n",
    "    'a_means':[[30,50],[50,70]],\n",
    "    'b_means':[[50,30],[70,50]],\n",
    "    'a_covariances':[[[10,0],[0,150]],[[150,0],[0,10]]],\n",
    "    'b_covariances':[[[10,0],[0,150]],[[150,0],[0,10]]]\n",
    "}\n",
    "\n",
    "ii_params = {\n",
    "    'a_means':[40,50],\n",
    "    'b_means':[60,50],\n",
    "    'a_covariances':[[10,0],[0,280]],\n",
    "    'b_covariances':[[10,0],[0,280]]\n",
    "}\n",
    "\n",
    "if cat_scheme == 'rb':\n",
    "    dist_params = rb_params\n",
    "elif cat_scheme == 'ii':\n",
    "    dist_params = ii_params"
   ]
  },
  {
   "cell_type": "code",
   "execution_count": 17,
   "id": "97ff6955-ebc6-472c-a2f6-90bf63163b52",
   "metadata": {},
   "outputs": [
    {
     "data": {
      "application/vnd.jupyter.widget-view+json": {
       "model_id": "3462f514b8ab431fabaef0cbbe604339",
       "version_major": 2,
       "version_minor": 0
      },
      "text/plain": [
       "interactive(children=(IntSlider(value=30, description='a_means_1_x', max=60), IntSlider(value=50, description=…"
      ]
     },
     "metadata": {},
     "output_type": "display_data"
    }
   ],
   "source": [
    "if cat_scheme == 'ii':\n",
    "    interact(modify_dist_params_ii, \n",
    "             a_means_x = (0,80,1),\n",
    "             a_means_y = (0,100,1),\n",
    "             b_means_x = (0,120,1),\n",
    "             b_means_y = (0,100,1),\n",
    "             a_cov_x = (0,20,1),\n",
    "             a_cov_y = (0,560, 1),\n",
    "             b_cov_x = (0,20,1),\n",
    "             b_cov_y = (0,560, 1),\n",
    "            )\n",
    "elif cat_scheme == 'rb':\n",
    "        interact(modify_dist_params_rb, \n",
    "                 a_means_1_x = (0,60,1),\n",
    "                 a_means_1_y = (0,100,1),\n",
    "                 a_means_2_x = (0,100,1),\n",
    "                 a_means_2_y = (0,140,1),\n",
    "                 b_means_1_x = (0,100,1),\n",
    "                 b_means_1_y = (0,60,1),\n",
    "                 b_means_2_x = (0,140,1),\n",
    "                 b_means_2_y = (0,100,1),\n",
    "                 a_cov_1_x = (0,20,1),\n",
    "                 a_cov_1_y = (0,300,1),\n",
    "                 a_cov_2_x = (0,300,1),\n",
    "                 a_cov_2_y = (0,20,1),\n",
    "                 b_cov_1_x = (0,20,1),\n",
    "                 b_cov_1_y = (0,300,1),\n",
    "                 b_cov_2_x = (0,300,1),\n",
    "                 b_cov_2_y = (0,20,1),\n",
    "            )"
   ]
  },
  {
   "cell_type": "code",
   "execution_count": null,
   "id": "e68ae3b6-6ff9-4635-b2c0-936d8417d9eb",
   "metadata": {},
   "outputs": [],
   "source": [
    "plt.show(trainset.plot_final())"
   ]
  },
  {
   "cell_type": "code",
   "execution_count": null,
   "id": "9554ee80-0721-4f1d-a653-5d96a50960ef",
   "metadata": {},
   "outputs": [],
   "source": [
    "label, image = next(iter(trainset))"
   ]
  },
  {
   "cell_type": "code",
   "execution_count": null,
   "id": "06b02e2b-452c-4aa0-a596-08702206f3df",
   "metadata": {},
   "outputs": [],
   "source": [
    "image[0,100]"
   ]
  },
  {
   "cell_type": "code",
   "execution_count": null,
   "id": "02a5d892-b0b4-4bcb-b1bc-e24654d09d1e",
   "metadata": {},
   "outputs": [],
   "source": [
    "type(image)"
   ]
  },
  {
   "cell_type": "markdown",
   "id": "96cae938-ae7d-4eec-96cc-15cf5d054586",
   "metadata": {
    "tags": []
   },
   "source": [
    "# Setting up Data Pipeline"
   ]
  },
  {
   "cell_type": "code",
   "execution_count": null,
   "id": "6826a59a-a4ce-49c7-a7f8-ae9e21a49c45",
   "metadata": {},
   "outputs": [],
   "source": [
    "batch_size = 4"
   ]
  },
  {
   "cell_type": "code",
   "execution_count": null,
   "id": "c9ceebda-9437-497a-88db-6ca3077c6698",
   "metadata": {},
   "outputs": [],
   "source": [
    "trainloader = torch.utils.data.DataLoader(trainset, batch_size=batch_size, shuffle=True, num_workers=12)"
   ]
  },
  {
   "cell_type": "code",
   "execution_count": null,
   "id": "5562d77c-96af-4438-a679-381bc489655c",
   "metadata": {},
   "outputs": [],
   "source": [
    "classes = ['Condition A', 'Condition B']"
   ]
  },
  {
   "cell_type": "code",
   "execution_count": null,
   "id": "6ab4c76e-c444-4e53-9c37-05797e784925",
   "metadata": {},
   "outputs": [],
   "source": [
    "# functions to show an image\n",
    "def imshow(img):\n",
    "    npimg = img.numpy()\n",
    "    plt.imshow(np.transpose(npimg, (1, 2, 0)))\n",
    "    #plt.imshow(npimg)\n",
    "    plt.show()\n",
    "\n",
    "dataiter = iter(trainloader)\n",
    "labels, images = dataiter.next()"
   ]
  },
  {
   "cell_type": "code",
   "execution_count": null,
   "id": "fe2923ef-e95c-4738-ae36-739c5720ac8e",
   "metadata": {},
   "outputs": [],
   "source": [
    "images.shape"
   ]
  },
  {
   "cell_type": "code",
   "execution_count": null,
   "id": "df40b6ef-7b3f-43d0-a96e-282bc11df56b",
   "metadata": {},
   "outputs": [],
   "source": [
    "# show images\n",
    "imshow(torchvision.utils.make_grid(images))\n",
    "# print labels\n",
    "print(' '.join(f'{classes[labels[j]]:5s}' for j in range(batch_size)))"
   ]
  },
  {
   "cell_type": "code",
   "execution_count": null,
   "id": "766c53ab-38ec-48fa-be65-4565476c9393",
   "metadata": {},
   "outputs": [],
   "source": [
    "testloader = torch.utils.data.DataLoader(testset, batch_size=batch_size, shuffle=False, num_workers=12)\n",
    "dataiter = iter(testloader)\n",
    "labels, images = dataiter.next()\n",
    "\n",
    "images.shape"
   ]
  },
  {
   "cell_type": "code",
   "execution_count": null,
   "id": "14843c0d-3416-4325-845b-1a50b6e8da63",
   "metadata": {},
   "outputs": [],
   "source": [
    "# print images\n",
    "imshow(torchvision.utils.make_grid(images))\n",
    "print('GroundTruth: ', ' '.join(f'{classes[labels[j]]:5s}' for j in range(batch_size)))"
   ]
  },
  {
   "cell_type": "markdown",
   "id": "f1fd67df-122c-4bba-b16e-19a78b5416be",
   "metadata": {
    "tags": []
   },
   "source": [
    "# Define a Neural Network"
   ]
  },
  {
   "cell_type": "code",
   "execution_count": 25,
   "id": "131d0892-c4ca-4620-bae9-ea54771a5bd3",
   "metadata": {},
   "outputs": [],
   "source": [
    "class AlexNet(nn.Module):\n",
    "    def __init__(self, num_classes: int = 2, dropout: float = 0.5) -> None:\n",
    "        super().__init__()\n",
    "        self.features = nn.Sequential(\n",
    "            nn.Conv2d(1, 2, kernel_size=11, stride=4, padding=2),\n",
    "            nn.ReLU(inplace=True),\n",
    "            nn.MaxPool2d(kernel_size=3, stride=2),\n",
    "            nn.Conv2d(2, 2, kernel_size=5, padding=2),\n",
    "            nn.ReLU(inplace=True),\n",
    "            nn.MaxPool2d(kernel_size=3, stride=2),\n",
    "            nn.Conv2d(2, 2, kernel_size=3, padding=1),\n",
    "            nn.ReLU(inplace=True),\n",
    "            nn.Conv2d(2, 2, kernel_size=3, padding=1),\n",
    "            nn.ReLU(inplace=True),\n",
    "            nn.Conv2d(2, 2, kernel_size=3, padding=1),\n",
    "            nn.ReLU(inplace=True),\n",
    "            nn.MaxPool2d(kernel_size=3, stride=2),\n",
    "        )\n",
    "        #self.avgpool = nn.AdaptiveAvgPool2d((6, 6))\n",
    "        self.classifier = nn.Sequential(\n",
    "            #nn.Dropout(p=dropout),\n",
    "            #nn.Linear(128 * 6 * 6, 16),\n",
    "            \n",
    "            #nn.Linear(2 * 7 * 7, 32),\n",
    "            nn.Linear(2 * 7 * 7, num_classes)\n",
    "            \n",
    "            #nn.ReLU(inplace=True),\n",
    "            #nn.Dropout(p=dropout),\n",
    "            #nn.Linear(4096, 4096),\n",
    "            #nn.ReLU(inplace=True),\n",
    "            #nn.Linear(32, num_classes),\n",
    "        )\n",
    "\n",
    "    def forward(self, x: torch.Tensor) -> torch.Tensor:\n",
    "        x = self.features(x)\n",
    "        #print(x.shape)\n",
    "        #x = self.avgpool(x)\n",
    "        x = torch.flatten(x, 1)\n",
    "        x = self.classifier(x)\n",
    "        return x\n"
   ]
  },
  {
   "cell_type": "code",
   "execution_count": 26,
   "id": "23119271-3fa8-4851-a4db-612b89649ab3",
   "metadata": {},
   "outputs": [],
   "source": [
    "net = AlexNet()\n",
    "net = net.cuda()"
   ]
  },
  {
   "cell_type": "code",
   "execution_count": 27,
   "id": "ae4e6704-2a70-4cdd-940b-7022cd1c03c3",
   "metadata": {},
   "outputs": [
    {
     "name": "stdout",
     "output_type": "stream",
     "text": [
      "----------------------------------------------------------------\n",
      "        Layer (type)               Output Shape         Param #\n",
      "================================================================\n",
      "            Conv2d-1            [-1, 2, 63, 63]             244\n",
      "              ReLU-2            [-1, 2, 63, 63]               0\n",
      "         MaxPool2d-3            [-1, 2, 31, 31]               0\n",
      "            Conv2d-4            [-1, 2, 31, 31]             102\n",
      "              ReLU-5            [-1, 2, 31, 31]               0\n",
      "         MaxPool2d-6            [-1, 2, 15, 15]               0\n",
      "            Conv2d-7            [-1, 2, 15, 15]              38\n",
      "              ReLU-8            [-1, 2, 15, 15]               0\n",
      "            Conv2d-9            [-1, 2, 15, 15]              38\n",
      "             ReLU-10            [-1, 2, 15, 15]               0\n",
      "           Conv2d-11            [-1, 2, 15, 15]              38\n",
      "             ReLU-12            [-1, 2, 15, 15]               0\n",
      "        MaxPool2d-13              [-1, 2, 7, 7]               0\n",
      "           Linear-14                    [-1, 2]             198\n",
      "================================================================\n",
      "Total params: 658\n",
      "Trainable params: 658\n",
      "Non-trainable params: 0\n",
      "----------------------------------------------------------------\n",
      "Input size (MB): 0.25\n",
      "Forward/backward pass size (MB): 0.19\n",
      "Params size (MB): 0.00\n",
      "Estimated Total Size (MB): 0.44\n",
      "----------------------------------------------------------------\n"
     ]
    }
   ],
   "source": [
    "from torchsummary import summary\n",
    "summary(net, (1,256,256))"
   ]
  },
  {
   "cell_type": "markdown",
   "id": "f077848c-3ccd-4536-98be-18f908e6d000",
   "metadata": {},
   "source": [
    "# Define Loss Function and Optimizer"
   ]
  },
  {
   "cell_type": "code",
   "execution_count": 28,
   "id": "3ce20261-0e95-4987-a235-81addb5dd1db",
   "metadata": {},
   "outputs": [],
   "source": [
    "criterion = nn.CrossEntropyLoss()\n",
    "#optimizer = optim.SGD(net.parameters(), lr=0.01, momentum=0.5)\n",
    "optimizer = optim.Adam(net.parameters(), lr=1e-3)"
   ]
  },
  {
   "cell_type": "code",
   "execution_count": 29,
   "id": "1eb9cbae-0c43-4592-983b-d9e1df4909b6",
   "metadata": {
    "tags": []
   },
   "outputs": [
    {
     "name": "stdout",
     "output_type": "stream",
     "text": [
      "Epoch 1, loss: 130.933\n",
      "\tTest Accuracy: 70.000 %\n",
      "Epoch 2, loss: 32.641\n",
      "\tTest Accuracy: 70.000 %\n",
      "Epoch 3, loss: 24.144\n",
      "\tTest Accuracy: 75.000 %\n",
      "Epoch 4, loss: 25.542\n",
      "\tTest Accuracy: 80.000 %\n",
      "Epoch 5, loss: 19.913\n",
      "\tTest Accuracy: 85.000 %\n",
      "Epoch 6, loss: 25.007\n",
      "\tTest Accuracy: 75.000 %\n",
      "Epoch 7, loss: 18.493\n",
      "\tTest Accuracy: 80.000 %\n",
      "Epoch 8, loss: 18.291\n",
      "\tTest Accuracy: 90.000 %\n",
      "Epoch 9, loss: 19.570\n",
      "\tTest Accuracy: 80.000 %\n",
      "Epoch 10, loss: 17.228\n",
      "\tTest Accuracy: 75.000 %\n",
      "Epoch 11, loss: 15.165\n",
      "\tTest Accuracy: 80.000 %\n",
      "Epoch 12, loss: 16.342\n",
      "\tTest Accuracy: 75.000 %\n",
      "Epoch 13, loss: 18.423\n",
      "\tTest Accuracy: 80.000 %\n",
      "Epoch 14, loss: 18.671\n",
      "\tTest Accuracy: 80.000 %\n",
      "Epoch 15, loss: 15.386\n",
      "\tTest Accuracy: 80.000 %\n",
      "Epoch 16, loss: 15.951\n",
      "\tTest Accuracy: 80.000 %\n",
      "Epoch 17, loss: 18.499\n",
      "\tTest Accuracy: 80.000 %\n",
      "Epoch 18, loss: 16.290\n",
      "\tTest Accuracy: 80.000 %\n",
      "Epoch 19, loss: 16.174\n",
      "\tTest Accuracy: 80.000 %\n",
      "Epoch 20, loss: 16.251\n",
      "\tTest Accuracy: 80.000 %\n",
      "Epoch 21, loss: 12.654\n",
      "\tTest Accuracy: 80.000 %\n",
      "Epoch 22, loss: 13.405\n",
      "\tTest Accuracy: 80.000 %\n",
      "Epoch 23, loss: 12.147\n",
      "\tTest Accuracy: 80.000 %\n",
      "Epoch 24, loss: 13.460\n",
      "\tTest Accuracy: 80.000 %\n",
      "Epoch 25, loss: 12.473\n",
      "\tTest Accuracy: 80.000 %\n",
      "Epoch 26, loss: 13.225\n",
      "\tTest Accuracy: 80.000 %\n",
      "Epoch 27, loss: 10.103\n",
      "\tTest Accuracy: 80.000 %\n",
      "Epoch 28, loss: 9.534\n",
      "\tTest Accuracy: 80.000 %\n",
      "Epoch 29, loss: 15.144\n",
      "\tTest Accuracy: 80.000 %\n"
     ]
    },
    {
     "ename": "KeyboardInterrupt",
     "evalue": "",
     "output_type": "error",
     "traceback": [
      "\u001b[0;31m---------------------------------------------------------------------------\u001b[0m",
      "\u001b[0;31mKeyboardInterrupt\u001b[0m                         Traceback (most recent call last)",
      "\u001b[0;32m/tmp/ipykernel_3058897/1183660762.py\u001b[0m in \u001b[0;36m<module>\u001b[0;34m\u001b[0m\n\u001b[1;32m     10\u001b[0m         \u001b[0mloss\u001b[0m \u001b[0;34m=\u001b[0m \u001b[0mcriterion\u001b[0m\u001b[0;34m(\u001b[0m\u001b[0moutputs\u001b[0m\u001b[0;34m,\u001b[0m \u001b[0mlabels\u001b[0m\u001b[0;34m)\u001b[0m\u001b[0;34m\u001b[0m\u001b[0;34m\u001b[0m\u001b[0m\n\u001b[1;32m     11\u001b[0m         \u001b[0mloss\u001b[0m\u001b[0;34m.\u001b[0m\u001b[0mbackward\u001b[0m\u001b[0;34m(\u001b[0m\u001b[0;34m)\u001b[0m\u001b[0;34m\u001b[0m\u001b[0;34m\u001b[0m\u001b[0m\n\u001b[0;32m---> 12\u001b[0;31m         \u001b[0moptimizer\u001b[0m\u001b[0;34m.\u001b[0m\u001b[0mstep\u001b[0m\u001b[0;34m(\u001b[0m\u001b[0;34m)\u001b[0m\u001b[0;34m\u001b[0m\u001b[0;34m\u001b[0m\u001b[0m\n\u001b[0m\u001b[1;32m     13\u001b[0m \u001b[0;34m\u001b[0m\u001b[0m\n\u001b[1;32m     14\u001b[0m         \u001b[0mrunning_loss\u001b[0m \u001b[0;34m+=\u001b[0m \u001b[0mloss\u001b[0m\u001b[0;34m.\u001b[0m\u001b[0mitem\u001b[0m\u001b[0;34m(\u001b[0m\u001b[0;34m)\u001b[0m\u001b[0;34m\u001b[0m\u001b[0;34m\u001b[0m\u001b[0m\n",
      "\u001b[0;32m~/.local/lib/python3.8/site-packages/torch/optim/optimizer.py\u001b[0m in \u001b[0;36mwrapper\u001b[0;34m(*args, **kwargs)\u001b[0m\n\u001b[1;32m     86\u001b[0m                 \u001b[0mprofile_name\u001b[0m \u001b[0;34m=\u001b[0m \u001b[0;34m\"Optimizer.step#{}.step\"\u001b[0m\u001b[0;34m.\u001b[0m\u001b[0mformat\u001b[0m\u001b[0;34m(\u001b[0m\u001b[0mobj\u001b[0m\u001b[0;34m.\u001b[0m\u001b[0m__class__\u001b[0m\u001b[0;34m.\u001b[0m\u001b[0m__name__\u001b[0m\u001b[0;34m)\u001b[0m\u001b[0;34m\u001b[0m\u001b[0;34m\u001b[0m\u001b[0m\n\u001b[1;32m     87\u001b[0m                 \u001b[0;32mwith\u001b[0m \u001b[0mtorch\u001b[0m\u001b[0;34m.\u001b[0m\u001b[0mautograd\u001b[0m\u001b[0;34m.\u001b[0m\u001b[0mprofiler\u001b[0m\u001b[0;34m.\u001b[0m\u001b[0mrecord_function\u001b[0m\u001b[0;34m(\u001b[0m\u001b[0mprofile_name\u001b[0m\u001b[0;34m)\u001b[0m\u001b[0;34m:\u001b[0m\u001b[0;34m\u001b[0m\u001b[0;34m\u001b[0m\u001b[0m\n\u001b[0;32m---> 88\u001b[0;31m                     \u001b[0;32mreturn\u001b[0m \u001b[0mfunc\u001b[0m\u001b[0;34m(\u001b[0m\u001b[0;34m*\u001b[0m\u001b[0margs\u001b[0m\u001b[0;34m,\u001b[0m \u001b[0;34m**\u001b[0m\u001b[0mkwargs\u001b[0m\u001b[0;34m)\u001b[0m\u001b[0;34m\u001b[0m\u001b[0;34m\u001b[0m\u001b[0m\n\u001b[0m\u001b[1;32m     89\u001b[0m             \u001b[0;32mreturn\u001b[0m \u001b[0mwrapper\u001b[0m\u001b[0;34m\u001b[0m\u001b[0;34m\u001b[0m\u001b[0m\n\u001b[1;32m     90\u001b[0m \u001b[0;34m\u001b[0m\u001b[0m\n",
      "\u001b[0;32m~/.local/lib/python3.8/site-packages/torch/autograd/grad_mode.py\u001b[0m in \u001b[0;36mdecorate_context\u001b[0;34m(*args, **kwargs)\u001b[0m\n\u001b[1;32m     26\u001b[0m         \u001b[0;32mdef\u001b[0m \u001b[0mdecorate_context\u001b[0m\u001b[0;34m(\u001b[0m\u001b[0;34m*\u001b[0m\u001b[0margs\u001b[0m\u001b[0;34m,\u001b[0m \u001b[0;34m**\u001b[0m\u001b[0mkwargs\u001b[0m\u001b[0;34m)\u001b[0m\u001b[0;34m:\u001b[0m\u001b[0;34m\u001b[0m\u001b[0;34m\u001b[0m\u001b[0m\n\u001b[1;32m     27\u001b[0m             \u001b[0;32mwith\u001b[0m \u001b[0mself\u001b[0m\u001b[0;34m.\u001b[0m\u001b[0m__class__\u001b[0m\u001b[0;34m(\u001b[0m\u001b[0;34m)\u001b[0m\u001b[0;34m:\u001b[0m\u001b[0;34m\u001b[0m\u001b[0;34m\u001b[0m\u001b[0m\n\u001b[0;32m---> 28\u001b[0;31m                 \u001b[0;32mreturn\u001b[0m \u001b[0mfunc\u001b[0m\u001b[0;34m(\u001b[0m\u001b[0;34m*\u001b[0m\u001b[0margs\u001b[0m\u001b[0;34m,\u001b[0m \u001b[0;34m**\u001b[0m\u001b[0mkwargs\u001b[0m\u001b[0;34m)\u001b[0m\u001b[0;34m\u001b[0m\u001b[0;34m\u001b[0m\u001b[0m\n\u001b[0m\u001b[1;32m     29\u001b[0m         \u001b[0;32mreturn\u001b[0m \u001b[0mcast\u001b[0m\u001b[0;34m(\u001b[0m\u001b[0mF\u001b[0m\u001b[0;34m,\u001b[0m \u001b[0mdecorate_context\u001b[0m\u001b[0;34m)\u001b[0m\u001b[0;34m\u001b[0m\u001b[0;34m\u001b[0m\u001b[0m\n\u001b[1;32m     30\u001b[0m \u001b[0;34m\u001b[0m\u001b[0m\n",
      "\u001b[0;32m~/.local/lib/python3.8/site-packages/torch/optim/adam.py\u001b[0m in \u001b[0;36mstep\u001b[0;34m(self, closure)\u001b[0m\n\u001b[1;32m    131\u001b[0m                     \u001b[0mstate_steps\u001b[0m\u001b[0;34m.\u001b[0m\u001b[0mappend\u001b[0m\u001b[0;34m(\u001b[0m\u001b[0mstate\u001b[0m\u001b[0;34m[\u001b[0m\u001b[0;34m'step'\u001b[0m\u001b[0;34m]\u001b[0m\u001b[0;34m)\u001b[0m\u001b[0;34m\u001b[0m\u001b[0;34m\u001b[0m\u001b[0m\n\u001b[1;32m    132\u001b[0m \u001b[0;34m\u001b[0m\u001b[0m\n\u001b[0;32m--> 133\u001b[0;31m             F.adam(params_with_grad,\n\u001b[0m\u001b[1;32m    134\u001b[0m                    \u001b[0mgrads\u001b[0m\u001b[0;34m,\u001b[0m\u001b[0;34m\u001b[0m\u001b[0;34m\u001b[0m\u001b[0m\n\u001b[1;32m    135\u001b[0m                    \u001b[0mexp_avgs\u001b[0m\u001b[0;34m,\u001b[0m\u001b[0;34m\u001b[0m\u001b[0;34m\u001b[0m\u001b[0m\n",
      "\u001b[0;32m~/.local/lib/python3.8/site-packages/torch/optim/_functional.py\u001b[0m in \u001b[0;36madam\u001b[0;34m(params, grads, exp_avgs, exp_avg_sqs, max_exp_avg_sqs, state_steps, amsgrad, beta1, beta2, lr, weight_decay, eps)\u001b[0m\n\u001b[1;32m     85\u001b[0m         \u001b[0;31m# Decay the first and second moment running average coefficient\u001b[0m\u001b[0;34m\u001b[0m\u001b[0;34m\u001b[0m\u001b[0;34m\u001b[0m\u001b[0m\n\u001b[1;32m     86\u001b[0m         \u001b[0mexp_avg\u001b[0m\u001b[0;34m.\u001b[0m\u001b[0mmul_\u001b[0m\u001b[0;34m(\u001b[0m\u001b[0mbeta1\u001b[0m\u001b[0;34m)\u001b[0m\u001b[0;34m.\u001b[0m\u001b[0madd_\u001b[0m\u001b[0;34m(\u001b[0m\u001b[0mgrad\u001b[0m\u001b[0;34m,\u001b[0m \u001b[0malpha\u001b[0m\u001b[0;34m=\u001b[0m\u001b[0;36m1\u001b[0m \u001b[0;34m-\u001b[0m \u001b[0mbeta1\u001b[0m\u001b[0;34m)\u001b[0m\u001b[0;34m\u001b[0m\u001b[0;34m\u001b[0m\u001b[0m\n\u001b[0;32m---> 87\u001b[0;31m         \u001b[0mexp_avg_sq\u001b[0m\u001b[0;34m.\u001b[0m\u001b[0mmul_\u001b[0m\u001b[0;34m(\u001b[0m\u001b[0mbeta2\u001b[0m\u001b[0;34m)\u001b[0m\u001b[0;34m.\u001b[0m\u001b[0maddcmul_\u001b[0m\u001b[0;34m(\u001b[0m\u001b[0mgrad\u001b[0m\u001b[0;34m,\u001b[0m \u001b[0mgrad\u001b[0m\u001b[0;34m.\u001b[0m\u001b[0mconj\u001b[0m\u001b[0;34m(\u001b[0m\u001b[0;34m)\u001b[0m\u001b[0;34m,\u001b[0m \u001b[0mvalue\u001b[0m\u001b[0;34m=\u001b[0m\u001b[0;36m1\u001b[0m \u001b[0;34m-\u001b[0m \u001b[0mbeta2\u001b[0m\u001b[0;34m)\u001b[0m\u001b[0;34m\u001b[0m\u001b[0;34m\u001b[0m\u001b[0m\n\u001b[0m\u001b[1;32m     88\u001b[0m         \u001b[0;32mif\u001b[0m \u001b[0mamsgrad\u001b[0m\u001b[0;34m:\u001b[0m\u001b[0;34m\u001b[0m\u001b[0;34m\u001b[0m\u001b[0m\n\u001b[1;32m     89\u001b[0m             \u001b[0;31m# Maintains the maximum of all 2nd moment running avg. till now\u001b[0m\u001b[0;34m\u001b[0m\u001b[0;34m\u001b[0m\u001b[0;34m\u001b[0m\u001b[0m\n",
      "\u001b[0;31mKeyboardInterrupt\u001b[0m: "
     ]
    }
   ],
   "source": [
    "for epoch in range(300):\n",
    "    running_loss = 0.0\n",
    "    for i, data in enumerate(trainloader, 0):\n",
    "        labels, images = data\n",
    "        images = 2 * (images - 0.5002) # [0-1] to [-1,1]\n",
    "        images = images.cuda()\n",
    "        labels = labels.cuda()\n",
    "        optimizer.zero_grad()\n",
    "        outputs = net(images)\n",
    "        loss = criterion(outputs, labels)\n",
    "        loss.backward()\n",
    "        optimizer.step()\n",
    "        \n",
    "        running_loss += loss.item()\n",
    "    print(f\"Epoch {epoch + 1}, loss: {running_loss:.3f}\")\n",
    "    running_loss = 0.0\n",
    "    with torch.no_grad():\n",
    "        correct = 0\n",
    "        total = 0\n",
    "        for i,data in enumerate(testloader,0):\n",
    "            labels, images = data\n",
    "            images = 2 * (images - 0.5002)\n",
    "            images = images.cuda()\n",
    "            labels = labels.cuda()\n",
    "            outputs = net(images)\n",
    "            softmax_labels = F.log_softmax(outputs, dim=1)\n",
    "            preds_classes = torch.argmax(softmax_labels, axis=-1)\n",
    "            correct += int(torch.sum(preds_classes.cpu() == labels.cpu()))\n",
    "            total += batch_size\n",
    "        print(f\"\\tTest Accuracy: {100*correct/total:.3f} %\")\n"
   ]
  },
  {
   "cell_type": "markdown",
   "id": "2c19bee1-fc64-4da7-bf7a-9c0a55d3546a",
   "metadata": {},
   "source": [
    "No circular mask: Max accuracy 89.286% reached at Epoch 45\n",
    "With circular mask: Max accuracy 89.286% reached at Epoch Epoch 51"
   ]
  },
  {
   "cell_type": "markdown",
   "id": "e3b607d9-0fd0-4aa3-8e83-7139987327db",
   "metadata": {},
   "source": [
    "Hilarious and shocking: Making the training set tiny (10) and overfittinng the training set returned the best model. Loss: 0.0, Test accuracy: 95.5%. (ii condition)\n",
    "\n",
    "Same for 'rb' condition, but even higher accuracy: 97.0%\n",
    "\n",
    "+ Adam lr=3e-5\n",
    "\n",
    "This network (AlexNet-like) doesn't overfit the dataset beyond 80 training set, although maximum accuracy is reached at 160. (100%). The exact number depends on the numpy random seed (for dataset distribution).\n",
    "\n",
    "I kept trying to weaken/lighten the neural network,\n",
    "going so far as to replace Conv layers with AvgPool.\n",
    "When it got stuck, I changed the seed.\n",
    "\n",
    "Generally, lighter networks started tended to take longer to train."
   ]
  },
  {
   "cell_type": "markdown",
   "id": "c13f87e9-ff96-44d7-9fdb-ec287adde851",
   "metadata": {},
   "source": [
    "ii\n",
    "```\n",
    "Epoch 1, loss: 85.18336582183838\n",
    "Epoch 2, loss: 34.31419908697717\n",
    "Epoch 3, loss: 20.531744883628562\n",
    "Epoch 4, loss: 10.242627459112555\n",
    "Epoch 5, loss: 8.574068777030334\n",
    "Epoch 6, loss: 6.0638184630115575\n",
    "Epoch 7, loss: 6.023264018360351\n",
    "Epoch 8, loss: 5.1939516832790105\n",
    "Epoch 9, loss: 5.4007573618218885\n",
    "Epoch 10, loss: 5.164374641648465\n",
    "Epoch 11, loss: 3.511080036558269\n",
    "Epoch 12, loss: 4.276801145038917\n",
    "Epoch 13, loss: 3.6609255538830894\n",
    "Epoch 14, loss: 4.6994722907015785\n",
    "Epoch 15, loss: 4.765986231519491\n",
    "Epoch 16, loss: 4.714876491774248\n",
    "Epoch 17, loss: 4.739646985006402\n",
    "Epoch 18, loss: 3.8179756865556556\n",
    "Epoch 19, loss: 3.849432604794856\n",
    "Epoch 20, loss: 4.121982953985935\n",
    "Epoch 21, loss: 3.3283890375539613\n",
    "Epoch 22, loss: 5.158853088214528\n",
    "Epoch 23, loss: 3.3509279994996177\n",
    "Epoch 24, loss: 4.925103814290196\n",
    "Epoch 25, loss: 3.597546736024924\n",
    "Epoch 26, loss: 3.4156451058997845\n",
    "Epoch 27, loss: 3.92656532269757\n",
    "Epoch 28, loss: 3.454477835464786\n",
    "Epoch 29, loss: 4.126161962380138\n",
    "```"
   ]
  },
  {
   "cell_type": "markdown",
   "id": "b92c61e9-70f8-460b-b944-5cc1652d8383",
   "metadata": {},
   "source": [
    "rb\n",
    "```\n",
    "Epoch 1, loss: 81.22609773278236\n",
    "Epoch 2, loss: 14.698232750408351\n",
    "Epoch 3, loss: 7.9504072612617165\n",
    "Epoch 4, loss: 5.531502670957707\n",
    "Epoch 5, loss: 2.597533548818319\n",
    "Epoch 6, loss: 3.287875532914768\n",
    "Epoch 7, loss: 1.6578662709071068\n",
    "Epoch 8, loss: 2.9465451682626735\n",
    "Epoch 9, loss: 3.038850345830724\n",
    "Epoch 10, loss: 1.9624634058345691\n",
    "Epoch 11, loss: 2.759255254357413\n",
    "Epoch 12, loss: 2.156060866313055\n",
    "Epoch 13, loss: 2.234694680584653\n",
    "Epoch 14, loss: 2.082504246973258\n",
    "Epoch 15, loss: 2.892491750237241\n",
    "Epoch 16, loss: 2.1645498814541497\n",
    "Epoch 17, loss: 2.2291575001727324\n",
    "Epoch 18, loss: 1.7113196223872364\n",
    "Epoch 19, loss: 1.599599110239069\n",
    "Epoch 20, loss: 1.6463019263683236\n",
    "Epoch 21, loss: 1.765304080741771\n",
    "Epoch 22, loss: 2.0521400574434665\n",
    "Epoch 23, loss: 2.256082821975724\n",
    "Epoch 24, loss: 2.027793706598459\n",
    "Epoch 25, loss: 1.510054058764581\n",
    "Epoch 26, loss: 1.9244091983491671\n",
    "Epoch 27, loss: 1.6030073140500463\n",
    "Epoch 28, loss: 1.3176469673635438\n",
    "Epoch 29, loss: 1.6648579663578857\n",
    "```"
   ]
  },
  {
   "cell_type": "code",
   "execution_count": null,
   "id": "dbe013f7-a28e-40b0-a3cf-5f3bf30fa63a",
   "metadata": {},
   "outputs": [],
   "source": []
  }
 ],
 "metadata": {
  "kernelspec": {
   "display_name": "Python 3 (ipykernel)",
   "language": "python",
   "name": "python3"
  },
  "language_info": {
   "codemirror_mode": {
    "name": "ipython",
    "version": 3
   },
   "file_extension": ".py",
   "mimetype": "text/x-python",
   "name": "python",
   "nbconvert_exporter": "python",
   "pygments_lexer": "ipython3",
   "version": "3.8.10"
  }
 },
 "nbformat": 4,
 "nbformat_minor": 5
}
