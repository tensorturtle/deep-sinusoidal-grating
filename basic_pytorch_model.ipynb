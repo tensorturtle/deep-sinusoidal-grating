{
 "cells": [
  {
   "cell_type": "markdown",
   "id": "5c84805a-5c5a-4f05-9d5d-6b916300f9b3",
   "metadata": {},
   "source": [
    "# Testing PyTorch Dataset"
   ]
  },
  {
   "cell_type": "code",
   "execution_count": 1,
   "id": "f5942401-89c3-4c39-b12f-210515d2f111",
   "metadata": {},
   "outputs": [],
   "source": [
    "import torch\n",
    "import torchvision.transforms as transforms\n",
    "transform = transforms.Compose(\n",
    "    [transforms.PILToTensor(),\n",
    "     transforms.ConvertImageDtype(torch.float)\n",
    "     #transforms.Normalize((0.5, 0.5, 0.5), (0.5, 0.5, 0.5))\n",
    "    ])"
   ]
  },
  {
   "cell_type": "code",
   "execution_count": 2,
   "id": "e9c62866-2696-478c-8ac4-9a120555a20c",
   "metadata": {},
   "outputs": [],
   "source": [
    "from SineGratesDataset import SineGrates"
   ]
  },
  {
   "cell_type": "code",
   "execution_count": 3,
   "id": "db253fb2-c5d5-4841-a9cd-f539dfd3358b",
   "metadata": {},
   "outputs": [],
   "source": [
    "trainset = SineGrates(cat_scheme='rb', length=1000, transform=transform)\n",
    "testset = SineGrates(cat_scheme='rb', length=100, transform=transform)"
   ]
  },
  {
   "cell_type": "code",
   "execution_count": 4,
   "id": "9554ee80-0721-4f1d-a653-5d96a50960ef",
   "metadata": {},
   "outputs": [],
   "source": [
    "label, image = next(iter(trainset))"
   ]
  },
  {
   "cell_type": "code",
   "execution_count": 5,
   "id": "06b02e2b-452c-4aa0-a596-08702206f3df",
   "metadata": {},
   "outputs": [
    {
     "data": {
      "text/plain": [
       "tensor([0.5020, 0.5020, 0.5020, 0.5020, 0.5020, 0.5020, 0.5020, 0.5020, 0.5020,\n",
       "        0.5020, 0.5020, 0.5020, 0.5020, 0.5020, 0.5020, 0.5020, 0.5020, 0.5020,\n",
       "        0.5020, 0.5020, 0.5020, 0.5020, 0.4941, 0.4471, 0.3490, 0.2510, 0.1804,\n",
       "        0.1294, 0.0863, 0.0510, 0.0235, 0.0078, 0.0039, 0.0039, 0.0196, 0.0431,\n",
       "        0.0745, 0.1176, 0.1647, 0.2235, 0.2824, 0.3490, 0.4196, 0.4902, 0.5608,\n",
       "        0.6275, 0.6980, 0.7608, 0.8157, 0.8667, 0.9137, 0.9490, 0.9725, 0.9922,\n",
       "        0.9961, 0.9961, 0.9804, 0.9569, 0.9255, 0.8863, 0.8353, 0.7804, 0.7176,\n",
       "        0.6549, 0.5843, 0.5137, 0.4431, 0.3725, 0.3059, 0.2431, 0.1843, 0.1333,\n",
       "        0.0902, 0.0549, 0.0275, 0.0078, 0.0039, 0.0039, 0.0196, 0.0392, 0.0745,\n",
       "        0.1137, 0.1608, 0.2196, 0.2784, 0.3451, 0.4118, 0.4824, 0.5529, 0.6235,\n",
       "        0.6902, 0.7569, 0.8118, 0.8667, 0.9098, 0.9451, 0.9725, 0.9922, 0.9961,\n",
       "        0.9961, 0.9843, 0.9608, 0.9294, 0.8863, 0.8392, 0.7843, 0.7216, 0.6588,\n",
       "        0.5882, 0.5176, 0.4471, 0.3765, 0.3098, 0.2471, 0.1882, 0.1373, 0.0902,\n",
       "        0.0549, 0.0275, 0.0118, 0.0039, 0.0039, 0.0157, 0.0392, 0.0706, 0.1098,\n",
       "        0.1608, 0.2157, 0.2745, 0.3412, 0.4078, 0.4784, 0.5490, 0.6196, 0.6863,\n",
       "        0.7529, 0.8078, 0.8627, 0.9059, 0.9451, 0.9725, 0.9882, 0.9961, 0.9961,\n",
       "        0.9843, 0.9608, 0.9294, 0.8902, 0.8431, 0.7882, 0.7255, 0.6627, 0.5922,\n",
       "        0.5216, 0.4510, 0.3804, 0.3137, 0.2510, 0.1922, 0.1412, 0.0941, 0.0588,\n",
       "        0.0314, 0.0118, 0.0039, 0.0039, 0.0157, 0.0392, 0.0667, 0.1098, 0.1569,\n",
       "        0.2118, 0.2706, 0.3373, 0.4039, 0.4745, 0.5451, 0.6157, 0.6824, 0.7490,\n",
       "        0.8078, 0.8588, 0.9059, 0.9412, 0.9686, 0.9882, 0.9961, 0.9961, 0.9843,\n",
       "        0.9647, 0.9333, 0.8941, 0.8471, 0.7922, 0.7333, 0.6667, 0.6000, 0.5294,\n",
       "        0.4549, 0.3882, 0.3176, 0.2549, 0.1961, 0.1412, 0.0980, 0.0588, 0.0314,\n",
       "        0.0118, 0.0039, 0.0039, 0.0157, 0.0353, 0.0667, 0.1059, 0.1529, 0.2078,\n",
       "        0.2667, 0.3294, 0.4000, 0.4706, 0.5412, 0.6118, 0.6784, 0.7412, 0.8039,\n",
       "        0.8549, 0.9020, 0.9412, 0.9686, 0.9882, 0.9961, 0.9765, 0.8745, 0.6941,\n",
       "        0.5569, 0.5098, 0.5020, 0.5020, 0.5020, 0.5020, 0.5020, 0.5020, 0.5020,\n",
       "        0.5020, 0.5020, 0.5020, 0.5020, 0.5020, 0.5020, 0.5020, 0.5020, 0.5020,\n",
       "        0.5020, 0.5020, 0.5020, 0.5020])"
      ]
     },
     "execution_count": 5,
     "metadata": {},
     "output_type": "execute_result"
    }
   ],
   "source": [
    "image[0,100]"
   ]
  },
  {
   "cell_type": "code",
   "execution_count": 6,
   "id": "02a5d892-b0b4-4bcb-b1bc-e24654d09d1e",
   "metadata": {},
   "outputs": [
    {
     "data": {
      "text/plain": [
       "torch.Tensor"
      ]
     },
     "execution_count": 6,
     "metadata": {},
     "output_type": "execute_result"
    }
   ],
   "source": [
    "type(image)"
   ]
  },
  {
   "cell_type": "markdown",
   "id": "96cae938-ae7d-4eec-96cc-15cf5d054586",
   "metadata": {
    "tags": []
   },
   "source": [
    "# Setting up Data Pipeline"
   ]
  },
  {
   "cell_type": "code",
   "execution_count": 7,
   "id": "e2df7998-b34d-4ccf-b43e-a48553cd0dc0",
   "metadata": {},
   "outputs": [],
   "source": [
    "import torch\n",
    "import torch.nn as nn"
   ]
  },
  {
   "cell_type": "code",
   "execution_count": 8,
   "id": "6826a59a-a4ce-49c7-a7f8-ae9e21a49c45",
   "metadata": {},
   "outputs": [],
   "source": [
    "batch_size = 8"
   ]
  },
  {
   "cell_type": "code",
   "execution_count": 9,
   "id": "c9ceebda-9437-497a-88db-6ca3077c6698",
   "metadata": {},
   "outputs": [],
   "source": [
    "trainloader = torch.utils.data.DataLoader(trainset, batch_size=batch_size, shuffle=True, num_workers=12)"
   ]
  },
  {
   "cell_type": "code",
   "execution_count": 10,
   "id": "5562d77c-96af-4438-a679-381bc489655c",
   "metadata": {},
   "outputs": [],
   "source": [
    "classes = ['Condition A', 'Condition B']"
   ]
  },
  {
   "cell_type": "code",
   "execution_count": 11,
   "id": "6ab4c76e-c444-4e53-9c37-05797e784925",
   "metadata": {},
   "outputs": [],
   "source": [
    "import torchvision\n",
    "import matplotlib.pyplot as plt\n",
    "import numpy as np\n",
    "\n",
    "# functions to show an image\n",
    "def imshow(img):\n",
    "    npimg = img.numpy()\n",
    "    plt.imshow(np.transpose(npimg, (1, 2, 0)))\n",
    "    #plt.imshow(npimg)\n",
    "    plt.show()\n",
    "\n",
    "dataiter = iter(trainloader)\n",
    "labels, images = dataiter.next()"
   ]
  },
  {
   "cell_type": "code",
   "execution_count": 12,
   "id": "fe2923ef-e95c-4738-ae36-739c5720ac8e",
   "metadata": {},
   "outputs": [
    {
     "data": {
      "text/plain": [
       "torch.Size([8, 1, 256, 256])"
      ]
     },
     "execution_count": 12,
     "metadata": {},
     "output_type": "execute_result"
    }
   ],
   "source": [
    "images.shape"
   ]
  },
  {
   "cell_type": "code",
   "execution_count": 13,
   "id": "df40b6ef-7b3f-43d0-a96e-282bc11df56b",
   "metadata": {},
   "outputs": [
    {
     "data": {
      "image/png": "[encoded data removed]",
      "text/plain": [
       "<Figure size 432x288 with 1 Axes>"
      ]
     },
     "metadata": {
      "needs_background": "light"
     },
     "output_type": "display_data"
    },
    {
     "name": "stdout",
     "output_type": "stream",
     "text": [
      "Condition A Condition B Condition A Condition B Condition A Condition A Condition B Condition A\n"
     ]
    }
   ],
   "source": [
    "# show images\n",
    "imshow(torchvision.utils.make_grid(images))\n",
    "# print labels\n",
    "print(' '.join(f'{classes[labels[j]]:5s}' for j in range(batch_size)))"
   ]
  },
  {
   "cell_type": "markdown",
   "id": "f1fd67df-122c-4bba-b16e-19a78b5416be",
   "metadata": {
    "tags": []
   },
   "source": [
    "# Define a Neural Network"
   ]
  },
  {
   "cell_type": "code",
   "execution_count": 14,
   "id": "579fc319-84eb-452f-b55f-9207e6ef824b",
   "metadata": {
    "tags": []
   },
   "outputs": [],
   "source": [
    "class AlexNet(nn.Module):\n",
    "    def __init__(self, num_classes: int = 2, dropout: float = 0.5) -> None:\n",
    "        super().__init__()\n",
    "        self.features = nn.Sequential(\n",
    "            nn.Conv2d(1, 4, kernel_size=3, stride=1, padding=1),\n",
    "            nn.ReLU(inplace=True),\n",
    "            nn.MaxPool2d(kernel_size=3, stride=1),\n",
    "            \n",
    "            nn.Conv2d(4,8, kernel_size=3, stride=1, padding=1),\n",
    "            nn.ReLU(inplace=True),\n",
    "            nn.MaxPool2d(kernel_size=3, stride=1),\n",
    "            \n",
    "            nn.Conv2d(8,16, kernel_size=3, stride=1, padding=1),\n",
    "            nn.ReLU(inplace=True),\n",
    "            nn.MaxPool2d(kernel_size=3, stride=1),\n",
    "            \n",
    "            nn.Conv2d(16,32, kernel_size=3, stride=1, padding=1),\n",
    "            nn.ReLU(inplace=True),\n",
    "            nn.MaxPool2d(kernel_size=3, stride=1),\n",
    "            \n",
    "            nn.Conv2d(32,64, kernel_size=3, stride=1, padding=1),\n",
    "            nn.ReLU(inplace=True),\n",
    "            nn.MaxPool2d(kernel_size=3, stride=1),\n",
    "            \n",
    "            nn.Conv2d(64,128, kernel_size=3, stride=1, padding=1),\n",
    "            nn.ReLU(inplace=True),\n",
    "            nn.MaxPool2d(kernel_size=3, stride=1),\n",
    "            \n",
    "            nn.Conv2d(128,256, kernel_size=3, stride=1, padding=1),\n",
    "            nn.ReLU(inplace=True),\n",
    "            nn.MaxPool2d(kernel_size=3, stride=1),\n",
    "        )\n",
    "        self.avgpool = nn.AdaptiveAvgPool2d((6, 6))\n",
    "        self.classifier = nn.Sequential(\n",
    "            nn.Dropout(p=dropout),\n",
    "            nn.Linear(256 * 7 * 7, 8),\n",
    "            nn.ReLU(inplace=True),\n",
    "            #nn.Dropout(p=dropout),\n",
    "            #nn.Linear(4096, 4096),\n",
    "            #nn.ReLU(inplace=True),\n",
    "            nn.Linear(8, num_classes),\n",
    "        )\n",
    "\n",
    "    def forward(self, x: torch.Tensor) -> torch.Tensor:\n",
    "        x = self.features(x)\n",
    "        print(x.shape)\n",
    "        #x = self.avgpool(x)\n",
    "        x = torch.flatten(x, 1)\n",
    "        x = self.classifier(x)\n",
    "        return x"
   ]
  },
  {
   "cell_type": "code",
   "execution_count": 15,
   "id": "dfb90511-c484-4ea6-94a3-4ad7b40d4db6",
   "metadata": {},
   "outputs": [],
   "source": [
    "class LinearNet(nn.Module):\n",
    "    def __init__(self, num_classes: int = 2) -> None:\n",
    "        super().__init__()\n",
    "        self.features = nn.Sequential(\n",
    "            nn.Linear(256*256, 128),\n",
    "            nn.Linear(128,64),\n",
    "            nn.Linear(64,32),\n",
    "            nn.Linear(32,2)\n",
    "        )\n",
    "    def forward(self, x: torch.Tensor) -> torch.Tensor:\n",
    "        x = torch.flatten(x,1)\n",
    "        x = self.features(x)\n",
    "        return x"
   ]
  },
  {
   "cell_type": "code",
   "execution_count": 16,
   "id": "23119271-3fa8-4851-a4db-612b89649ab3",
   "metadata": {},
   "outputs": [],
   "source": [
    "net = AlexNet()\n",
    "net = net.cuda()"
   ]
  },
  {
   "cell_type": "markdown",
   "id": "f077848c-3ccd-4536-98be-18f908e6d000",
   "metadata": {},
   "source": [
    "# Define Loss Function and Optimizer"
   ]
  },
  {
   "cell_type": "code",
   "execution_count": 17,
   "id": "3ce20261-0e95-4987-a235-81addb5dd1db",
   "metadata": {},
   "outputs": [],
   "source": [
    "import torch.optim as optim\n",
    "\n",
    "criterion = nn.CrossEntropyLoss()\n",
    "optimizer = optim.SGD(net.parameters(), lr=0.01, momentum=0.9)"
   ]
  },
  {
   "cell_type": "code",
   "execution_count": 18,
   "id": "1eb9cbae-0c43-4592-983b-d9e1df4909b6",
   "metadata": {},
   "outputs": [
    {
     "ename": "RuntimeError",
     "evalue": "CUDA out of memory. Tried to allocate 916.00 MiB (GPU 0; 7.76 GiB total capacity; 2.74 GiB already allocated; 322.12 MiB free; 2.75 GiB reserved in total by PyTorch) If reserved memory is >> allocated memory try setting max_split_size_mb to avoid fragmentation.  See documentation for Memory Management and PYTORCH_CUDA_ALLOC_CONF",
     "output_type": "error",
     "traceback": [
      "\u001b[0;31m---------------------------------------------------------------------------\u001b[0m",
      "\u001b[0;31mRuntimeError\u001b[0m                              Traceback (most recent call last)",
      "\u001b[0;32m/tmp/ipykernel_301843/3641837474.py\u001b[0m in \u001b[0;36m<module>\u001b[0;34m\u001b[0m\n\u001b[1;32m      7\u001b[0m         \u001b[0mlabels\u001b[0m \u001b[0;34m=\u001b[0m \u001b[0mlabels\u001b[0m\u001b[0;34m.\u001b[0m\u001b[0mcuda\u001b[0m\u001b[0;34m(\u001b[0m\u001b[0;34m)\u001b[0m\u001b[0;34m\u001b[0m\u001b[0;34m\u001b[0m\u001b[0m\n\u001b[1;32m      8\u001b[0m         \u001b[0moptimizer\u001b[0m\u001b[0;34m.\u001b[0m\u001b[0mzero_grad\u001b[0m\u001b[0;34m(\u001b[0m\u001b[0;34m)\u001b[0m\u001b[0;34m\u001b[0m\u001b[0;34m\u001b[0m\u001b[0m\n\u001b[0;32m----> 9\u001b[0;31m         \u001b[0moutputs\u001b[0m \u001b[0;34m=\u001b[0m \u001b[0mnet\u001b[0m\u001b[0;34m(\u001b[0m\u001b[0mimages\u001b[0m\u001b[0;34m)\u001b[0m\u001b[0;34m\u001b[0m\u001b[0;34m\u001b[0m\u001b[0m\n\u001b[0m\u001b[1;32m     10\u001b[0m         \u001b[0mloss\u001b[0m \u001b[0;34m=\u001b[0m \u001b[0mcriterion\u001b[0m\u001b[0;34m(\u001b[0m\u001b[0moutputs\u001b[0m\u001b[0;34m,\u001b[0m \u001b[0mlabels\u001b[0m\u001b[0;34m)\u001b[0m\u001b[0;34m\u001b[0m\u001b[0;34m\u001b[0m\u001b[0m\n\u001b[1;32m     11\u001b[0m         \u001b[0mloss\u001b[0m\u001b[0;34m.\u001b[0m\u001b[0mbackward\u001b[0m\u001b[0;34m(\u001b[0m\u001b[0;34m)\u001b[0m\u001b[0;34m\u001b[0m\u001b[0;34m\u001b[0m\u001b[0m\n",
      "\u001b[0;32m~/.local/lib/python3.8/site-packages/torch/nn/modules/module.py\u001b[0m in \u001b[0;36m_call_impl\u001b[0;34m(self, *input, **kwargs)\u001b[0m\n\u001b[1;32m   1100\u001b[0m         if not (self._backward_hooks or self._forward_hooks or self._forward_pre_hooks or _global_backward_hooks\n\u001b[1;32m   1101\u001b[0m                 or _global_forward_hooks or _global_forward_pre_hooks):\n\u001b[0;32m-> 1102\u001b[0;31m             \u001b[0;32mreturn\u001b[0m \u001b[0mforward_call\u001b[0m\u001b[0;34m(\u001b[0m\u001b[0;34m*\u001b[0m\u001b[0minput\u001b[0m\u001b[0;34m,\u001b[0m \u001b[0;34m**\u001b[0m\u001b[0mkwargs\u001b[0m\u001b[0;34m)\u001b[0m\u001b[0;34m\u001b[0m\u001b[0;34m\u001b[0m\u001b[0m\n\u001b[0m\u001b[1;32m   1103\u001b[0m         \u001b[0;31m# Do not call functions when jit is used\u001b[0m\u001b[0;34m\u001b[0m\u001b[0;34m\u001b[0m\u001b[0;34m\u001b[0m\u001b[0m\n\u001b[1;32m   1104\u001b[0m         \u001b[0mfull_backward_hooks\u001b[0m\u001b[0;34m,\u001b[0m \u001b[0mnon_full_backward_hooks\u001b[0m \u001b[0;34m=\u001b[0m \u001b[0;34m[\u001b[0m\u001b[0;34m]\u001b[0m\u001b[0;34m,\u001b[0m \u001b[0;34m[\u001b[0m\u001b[0;34m]\u001b[0m\u001b[0;34m\u001b[0m\u001b[0;34m\u001b[0m\u001b[0m\n",
      "\u001b[0;32m/tmp/ipykernel_301843/3851018957.py\u001b[0m in \u001b[0;36mforward\u001b[0;34m(self, x)\u001b[0m\n\u001b[1;32m     43\u001b[0m \u001b[0;34m\u001b[0m\u001b[0m\n\u001b[1;32m     44\u001b[0m     \u001b[0;32mdef\u001b[0m \u001b[0mforward\u001b[0m\u001b[0;34m(\u001b[0m\u001b[0mself\u001b[0m\u001b[0;34m,\u001b[0m \u001b[0mx\u001b[0m\u001b[0;34m:\u001b[0m \u001b[0mtorch\u001b[0m\u001b[0;34m.\u001b[0m\u001b[0mTensor\u001b[0m\u001b[0;34m)\u001b[0m \u001b[0;34m->\u001b[0m \u001b[0mtorch\u001b[0m\u001b[0;34m.\u001b[0m\u001b[0mTensor\u001b[0m\u001b[0;34m:\u001b[0m\u001b[0;34m\u001b[0m\u001b[0;34m\u001b[0m\u001b[0m\n\u001b[0;32m---> 45\u001b[0;31m         \u001b[0mx\u001b[0m \u001b[0;34m=\u001b[0m \u001b[0mself\u001b[0m\u001b[0;34m.\u001b[0m\u001b[0mfeatures\u001b[0m\u001b[0;34m(\u001b[0m\u001b[0mx\u001b[0m\u001b[0;34m)\u001b[0m\u001b[0;34m\u001b[0m\u001b[0;34m\u001b[0m\u001b[0m\n\u001b[0m\u001b[1;32m     46\u001b[0m         \u001b[0mprint\u001b[0m\u001b[0;34m(\u001b[0m\u001b[0mx\u001b[0m\u001b[0;34m.\u001b[0m\u001b[0mshape\u001b[0m\u001b[0;34m)\u001b[0m\u001b[0;34m\u001b[0m\u001b[0;34m\u001b[0m\u001b[0m\n\u001b[1;32m     47\u001b[0m         \u001b[0;31m#x = self.avgpool(x)\u001b[0m\u001b[0;34m\u001b[0m\u001b[0;34m\u001b[0m\u001b[0;34m\u001b[0m\u001b[0m\n",
      "\u001b[0;32m~/.local/lib/python3.8/site-packages/torch/nn/modules/module.py\u001b[0m in \u001b[0;36m_call_impl\u001b[0;34m(self, *input, **kwargs)\u001b[0m\n\u001b[1;32m   1100\u001b[0m         if not (self._backward_hooks or self._forward_hooks or self._forward_pre_hooks or _global_backward_hooks\n\u001b[1;32m   1101\u001b[0m                 or _global_forward_hooks or _global_forward_pre_hooks):\n\u001b[0;32m-> 1102\u001b[0;31m             \u001b[0;32mreturn\u001b[0m \u001b[0mforward_call\u001b[0m\u001b[0;34m(\u001b[0m\u001b[0;34m*\u001b[0m\u001b[0minput\u001b[0m\u001b[0;34m,\u001b[0m \u001b[0;34m**\u001b[0m\u001b[0mkwargs\u001b[0m\u001b[0;34m)\u001b[0m\u001b[0;34m\u001b[0m\u001b[0;34m\u001b[0m\u001b[0m\n\u001b[0m\u001b[1;32m   1103\u001b[0m         \u001b[0;31m# Do not call functions when jit is used\u001b[0m\u001b[0;34m\u001b[0m\u001b[0;34m\u001b[0m\u001b[0;34m\u001b[0m\u001b[0m\n\u001b[1;32m   1104\u001b[0m         \u001b[0mfull_backward_hooks\u001b[0m\u001b[0;34m,\u001b[0m \u001b[0mnon_full_backward_hooks\u001b[0m \u001b[0;34m=\u001b[0m \u001b[0;34m[\u001b[0m\u001b[0;34m]\u001b[0m\u001b[0;34m,\u001b[0m \u001b[0;34m[\u001b[0m\u001b[0;34m]\u001b[0m\u001b[0;34m\u001b[0m\u001b[0;34m\u001b[0m\u001b[0m\n",
      "\u001b[0;32m~/.local/lib/python3.8/site-packages/torch/nn/modules/container.py\u001b[0m in \u001b[0;36mforward\u001b[0;34m(self, input)\u001b[0m\n\u001b[1;32m    139\u001b[0m     \u001b[0;32mdef\u001b[0m \u001b[0mforward\u001b[0m\u001b[0;34m(\u001b[0m\u001b[0mself\u001b[0m\u001b[0;34m,\u001b[0m \u001b[0minput\u001b[0m\u001b[0;34m)\u001b[0m\u001b[0;34m:\u001b[0m\u001b[0;34m\u001b[0m\u001b[0;34m\u001b[0m\u001b[0m\n\u001b[1;32m    140\u001b[0m         \u001b[0;32mfor\u001b[0m \u001b[0mmodule\u001b[0m \u001b[0;32min\u001b[0m \u001b[0mself\u001b[0m\u001b[0;34m:\u001b[0m\u001b[0;34m\u001b[0m\u001b[0;34m\u001b[0m\u001b[0m\n\u001b[0;32m--> 141\u001b[0;31m             \u001b[0minput\u001b[0m \u001b[0;34m=\u001b[0m \u001b[0mmodule\u001b[0m\u001b[0;34m(\u001b[0m\u001b[0minput\u001b[0m\u001b[0;34m)\u001b[0m\u001b[0;34m\u001b[0m\u001b[0;34m\u001b[0m\u001b[0m\n\u001b[0m\u001b[1;32m    142\u001b[0m         \u001b[0;32mreturn\u001b[0m \u001b[0minput\u001b[0m\u001b[0;34m\u001b[0m\u001b[0;34m\u001b[0m\u001b[0m\n\u001b[1;32m    143\u001b[0m \u001b[0;34m\u001b[0m\u001b[0m\n",
      "\u001b[0;32m~/.local/lib/python3.8/site-packages/torch/nn/modules/module.py\u001b[0m in \u001b[0;36m_call_impl\u001b[0;34m(self, *input, **kwargs)\u001b[0m\n\u001b[1;32m   1100\u001b[0m         if not (self._backward_hooks or self._forward_hooks or self._forward_pre_hooks or _global_backward_hooks\n\u001b[1;32m   1101\u001b[0m                 or _global_forward_hooks or _global_forward_pre_hooks):\n\u001b[0;32m-> 1102\u001b[0;31m             \u001b[0;32mreturn\u001b[0m \u001b[0mforward_call\u001b[0m\u001b[0;34m(\u001b[0m\u001b[0;34m*\u001b[0m\u001b[0minput\u001b[0m\u001b[0;34m,\u001b[0m \u001b[0;34m**\u001b[0m\u001b[0mkwargs\u001b[0m\u001b[0;34m)\u001b[0m\u001b[0;34m\u001b[0m\u001b[0;34m\u001b[0m\u001b[0m\n\u001b[0m\u001b[1;32m   1103\u001b[0m         \u001b[0;31m# Do not call functions when jit is used\u001b[0m\u001b[0;34m\u001b[0m\u001b[0;34m\u001b[0m\u001b[0;34m\u001b[0m\u001b[0m\n\u001b[1;32m   1104\u001b[0m         \u001b[0mfull_backward_hooks\u001b[0m\u001b[0;34m,\u001b[0m \u001b[0mnon_full_backward_hooks\u001b[0m \u001b[0;34m=\u001b[0m \u001b[0;34m[\u001b[0m\u001b[0;34m]\u001b[0m\u001b[0;34m,\u001b[0m \u001b[0;34m[\u001b[0m\u001b[0;34m]\u001b[0m\u001b[0;34m\u001b[0m\u001b[0;34m\u001b[0m\u001b[0m\n",
      "\u001b[0;32m~/.local/lib/python3.8/site-packages/torch/nn/modules/pooling.py\u001b[0m in \u001b[0;36mforward\u001b[0;34m(self, input)\u001b[0m\n\u001b[1;32m    160\u001b[0m \u001b[0;34m\u001b[0m\u001b[0m\n\u001b[1;32m    161\u001b[0m     \u001b[0;32mdef\u001b[0m \u001b[0mforward\u001b[0m\u001b[0;34m(\u001b[0m\u001b[0mself\u001b[0m\u001b[0;34m,\u001b[0m \u001b[0minput\u001b[0m\u001b[0;34m:\u001b[0m \u001b[0mTensor\u001b[0m\u001b[0;34m)\u001b[0m \u001b[0;34m->\u001b[0m \u001b[0mTensor\u001b[0m\u001b[0;34m:\u001b[0m\u001b[0;34m\u001b[0m\u001b[0;34m\u001b[0m\u001b[0m\n\u001b[0;32m--> 162\u001b[0;31m         return F.max_pool2d(input, self.kernel_size, self.stride,\n\u001b[0m\u001b[1;32m    163\u001b[0m                             \u001b[0mself\u001b[0m\u001b[0;34m.\u001b[0m\u001b[0mpadding\u001b[0m\u001b[0;34m,\u001b[0m \u001b[0mself\u001b[0m\u001b[0;34m.\u001b[0m\u001b[0mdilation\u001b[0m\u001b[0;34m,\u001b[0m \u001b[0mself\u001b[0m\u001b[0;34m.\u001b[0m\u001b[0mceil_mode\u001b[0m\u001b[0;34m,\u001b[0m\u001b[0;34m\u001b[0m\u001b[0;34m\u001b[0m\u001b[0m\n\u001b[1;32m    164\u001b[0m                             self.return_indices)\n",
      "\u001b[0;32m~/.local/lib/python3.8/site-packages/torch/_jit_internal.py\u001b[0m in \u001b[0;36mfn\u001b[0;34m(*args, **kwargs)\u001b[0m\n\u001b[1;32m    420\u001b[0m             \u001b[0;32mreturn\u001b[0m \u001b[0mif_true\u001b[0m\u001b[0;34m(\u001b[0m\u001b[0;34m*\u001b[0m\u001b[0margs\u001b[0m\u001b[0;34m,\u001b[0m \u001b[0;34m**\u001b[0m\u001b[0mkwargs\u001b[0m\u001b[0;34m)\u001b[0m\u001b[0;34m\u001b[0m\u001b[0;34m\u001b[0m\u001b[0m\n\u001b[1;32m    421\u001b[0m         \u001b[0;32melse\u001b[0m\u001b[0;34m:\u001b[0m\u001b[0;34m\u001b[0m\u001b[0;34m\u001b[0m\u001b[0m\n\u001b[0;32m--> 422\u001b[0;31m             \u001b[0;32mreturn\u001b[0m \u001b[0mif_false\u001b[0m\u001b[0;34m(\u001b[0m\u001b[0;34m*\u001b[0m\u001b[0margs\u001b[0m\u001b[0;34m,\u001b[0m \u001b[0;34m**\u001b[0m\u001b[0mkwargs\u001b[0m\u001b[0;34m)\u001b[0m\u001b[0;34m\u001b[0m\u001b[0;34m\u001b[0m\u001b[0m\n\u001b[0m\u001b[1;32m    423\u001b[0m \u001b[0;34m\u001b[0m\u001b[0m\n\u001b[1;32m    424\u001b[0m     \u001b[0;32mif\u001b[0m \u001b[0mif_true\u001b[0m\u001b[0;34m.\u001b[0m\u001b[0m__doc__\u001b[0m \u001b[0;32mis\u001b[0m \u001b[0;32mNone\u001b[0m \u001b[0;32mand\u001b[0m \u001b[0mif_false\u001b[0m\u001b[0;34m.\u001b[0m\u001b[0m__doc__\u001b[0m \u001b[0;32mis\u001b[0m \u001b[0;32mnot\u001b[0m \u001b[0;32mNone\u001b[0m\u001b[0;34m:\u001b[0m\u001b[0;34m\u001b[0m\u001b[0;34m\u001b[0m\u001b[0m\n",
      "\u001b[0;32m~/.local/lib/python3.8/site-packages/torch/nn/functional.py\u001b[0m in \u001b[0;36m_max_pool2d\u001b[0;34m(input, kernel_size, stride, padding, dilation, ceil_mode, return_indices)\u001b[0m\n\u001b[1;32m    717\u001b[0m     \u001b[0;32mif\u001b[0m \u001b[0mstride\u001b[0m \u001b[0;32mis\u001b[0m \u001b[0;32mNone\u001b[0m\u001b[0;34m:\u001b[0m\u001b[0;34m\u001b[0m\u001b[0;34m\u001b[0m\u001b[0m\n\u001b[1;32m    718\u001b[0m         \u001b[0mstride\u001b[0m \u001b[0;34m=\u001b[0m \u001b[0mtorch\u001b[0m\u001b[0;34m.\u001b[0m\u001b[0mjit\u001b[0m\u001b[0;34m.\u001b[0m\u001b[0mannotate\u001b[0m\u001b[0;34m(\u001b[0m\u001b[0mList\u001b[0m\u001b[0;34m[\u001b[0m\u001b[0mint\u001b[0m\u001b[0;34m]\u001b[0m\u001b[0;34m,\u001b[0m \u001b[0;34m[\u001b[0m\u001b[0;34m]\u001b[0m\u001b[0;34m)\u001b[0m\u001b[0;34m\u001b[0m\u001b[0;34m\u001b[0m\u001b[0m\n\u001b[0;32m--> 719\u001b[0;31m     \u001b[0;32mreturn\u001b[0m \u001b[0mtorch\u001b[0m\u001b[0;34m.\u001b[0m\u001b[0mmax_pool2d\u001b[0m\u001b[0;34m(\u001b[0m\u001b[0minput\u001b[0m\u001b[0;34m,\u001b[0m \u001b[0mkernel_size\u001b[0m\u001b[0;34m,\u001b[0m \u001b[0mstride\u001b[0m\u001b[0;34m,\u001b[0m \u001b[0mpadding\u001b[0m\u001b[0;34m,\u001b[0m \u001b[0mdilation\u001b[0m\u001b[0;34m,\u001b[0m \u001b[0mceil_mode\u001b[0m\u001b[0;34m)\u001b[0m\u001b[0;34m\u001b[0m\u001b[0;34m\u001b[0m\u001b[0m\n\u001b[0m\u001b[1;32m    720\u001b[0m \u001b[0;34m\u001b[0m\u001b[0m\n\u001b[1;32m    721\u001b[0m \u001b[0;34m\u001b[0m\u001b[0m\n",
      "\u001b[0;31mRuntimeError\u001b[0m: CUDA out of memory. Tried to allocate 916.00 MiB (GPU 0; 7.76 GiB total capacity; 2.74 GiB already allocated; 322.12 MiB free; 2.75 GiB reserved in total by PyTorch) If reserved memory is >> allocated memory try setting max_split_size_mb to avoid fragmentation.  See documentation for Memory Management and PYTORCH_CUDA_ALLOC_CONF"
     ]
    }
   ],
   "source": [
    "for epoch in range(100):\n",
    "    running_loss = 0.0\n",
    "    for i, data in enumerate(trainloader, 0):\n",
    "        labels, images = data\n",
    "        images = 2 * (images - 0.5002) # [0-1] to [-1,1]\n",
    "        images = images.cuda()\n",
    "        labels = labels.cuda()\n",
    "        optimizer.zero_grad()\n",
    "        outputs = net(images)\n",
    "        loss = criterion(outputs, labels)\n",
    "        loss.backward()\n",
    "        optimizer.step()\n",
    "        \n",
    "        running_loss += loss.item()\n",
    "    print(f\"Epoch {epoch + 1}, loss: {running_loss}\")\n",
    "    running_loss = 0.0"
   ]
  },
  {
   "cell_type": "markdown",
   "id": "c13f87e9-ff96-44d7-9fdb-ec287adde851",
   "metadata": {},
   "source": [
    "ii\n",
    "```\n",
    "Epoch 1, loss: 85.18336582183838\n",
    "Epoch 2, loss: 34.31419908697717\n",
    "Epoch 3, loss: 20.531744883628562\n",
    "Epoch 4, loss: 10.242627459112555\n",
    "Epoch 5, loss: 8.574068777030334\n",
    "Epoch 6, loss: 6.0638184630115575\n",
    "Epoch 7, loss: 6.023264018360351\n",
    "Epoch 8, loss: 5.1939516832790105\n",
    "Epoch 9, loss: 5.4007573618218885\n",
    "Epoch 10, loss: 5.164374641648465\n",
    "Epoch 11, loss: 3.511080036558269\n",
    "Epoch 12, loss: 4.276801145038917\n",
    "Epoch 13, loss: 3.6609255538830894\n",
    "Epoch 14, loss: 4.6994722907015785\n",
    "Epoch 15, loss: 4.765986231519491\n",
    "Epoch 16, loss: 4.714876491774248\n",
    "Epoch 17, loss: 4.739646985006402\n",
    "Epoch 18, loss: 3.8179756865556556\n",
    "Epoch 19, loss: 3.849432604794856\n",
    "Epoch 20, loss: 4.121982953985935\n",
    "Epoch 21, loss: 3.3283890375539613\n",
    "Epoch 22, loss: 5.158853088214528\n",
    "Epoch 23, loss: 3.3509279994996177\n",
    "Epoch 24, loss: 4.925103814290196\n",
    "Epoch 25, loss: 3.597546736024924\n",
    "Epoch 26, loss: 3.4156451058997845\n",
    "Epoch 27, loss: 3.92656532269757\n",
    "Epoch 28, loss: 3.454477835464786\n",
    "Epoch 29, loss: 4.126161962380138\n",
    "```"
   ]
  },
  {
   "cell_type": "markdown",
   "id": "b92c61e9-70f8-460b-b944-5cc1652d8383",
   "metadata": {},
   "source": [
    "rb\n",
    "```\n",
    "Epoch 1, loss: 81.22609773278236\n",
    "Epoch 2, loss: 14.698232750408351\n",
    "Epoch 3, loss: 7.9504072612617165\n",
    "Epoch 4, loss: 5.531502670957707\n",
    "Epoch 5, loss: 2.597533548818319\n",
    "Epoch 6, loss: 3.287875532914768\n",
    "Epoch 7, loss: 1.6578662709071068\n",
    "Epoch 8, loss: 2.9465451682626735\n",
    "Epoch 9, loss: 3.038850345830724\n",
    "Epoch 10, loss: 1.9624634058345691\n",
    "Epoch 11, loss: 2.759255254357413\n",
    "Epoch 12, loss: 2.156060866313055\n",
    "Epoch 13, loss: 2.234694680584653\n",
    "Epoch 14, loss: 2.082504246973258\n",
    "Epoch 15, loss: 2.892491750237241\n",
    "Epoch 16, loss: 2.1645498814541497\n",
    "Epoch 17, loss: 2.2291575001727324\n",
    "Epoch 18, loss: 1.7113196223872364\n",
    "Epoch 19, loss: 1.599599110239069\n",
    "Epoch 20, loss: 1.6463019263683236\n",
    "Epoch 21, loss: 1.765304080741771\n",
    "Epoch 22, loss: 2.0521400574434665\n",
    "Epoch 23, loss: 2.256082821975724\n",
    "Epoch 24, loss: 2.027793706598459\n",
    "Epoch 25, loss: 1.510054058764581\n",
    "Epoch 26, loss: 1.9244091983491671\n",
    "Epoch 27, loss: 1.6030073140500463\n",
    "Epoch 28, loss: 1.3176469673635438\n",
    "Epoch 29, loss: 1.6648579663578857\n",
    "```"
   ]
  },
  {
   "cell_type": "code",
   "execution_count": null,
   "id": "766c53ab-38ec-48fa-be65-4565476c9393",
   "metadata": {},
   "outputs": [],
   "source": [
    "testloader = torch.utils.data.DataLoader(testset, batch_size=batch_size, shuffle=False, num_workers=12)\n",
    "dataiter = iter(testloader)\n",
    "labels, images = dataiter.next()\n",
    "\n",
    "images.shape"
   ]
  },
  {
   "cell_type": "code",
   "execution_count": null,
   "id": "14843c0d-3416-4325-845b-1a50b6e8da63",
   "metadata": {},
   "outputs": [],
   "source": [
    "# print images\n",
    "imshow(torchvision.utils.make_grid(images))\n",
    "print('GroundTruth: ', ' '.join(f'{classes[labels[j]]:5s}' for j in range(4)))"
   ]
  },
  {
   "cell_type": "code",
   "execution_count": null,
   "id": "1766ce80-a6bc-4f58-b0fc-bf70fd4ea51c",
   "metadata": {},
   "outputs": [],
   "source": [
    "outputs = net(images.cuda())"
   ]
  },
  {
   "cell_type": "code",
   "execution_count": null,
   "id": "d1d7b70e-d1f3-4be9-8cf3-00570e86a344",
   "metadata": {},
   "outputs": [],
   "source": [
    "outputs"
   ]
  },
  {
   "cell_type": "code",
   "execution_count": null,
   "id": "f5211427-88d1-45a6-a94f-59901d763b61",
   "metadata": {},
   "outputs": [],
   "source": [
    "import torch.nn.functional as F"
   ]
  },
  {
   "cell_type": "code",
   "execution_count": null,
   "id": "b955ed82-2bb0-4da6-81cd-05a353c876a6",
   "metadata": {},
   "outputs": [],
   "source": [
    "softmax_labels = F.log_softmax(outputs, dim=1)"
   ]
  },
  {
   "cell_type": "code",
   "execution_count": null,
   "id": "82b85c82-91e3-47b8-861b-dcd68bc8675d",
   "metadata": {},
   "outputs": [],
   "source": [
    "softmax_labels"
   ]
  },
  {
   "cell_type": "code",
   "execution_count": null,
   "id": "1bfe4304-7b37-4766-b591-2fb8b8e714c1",
   "metadata": {},
   "outputs": [],
   "source": [
    "preds_classes = torch.argmax(softmax_labels, axis=-1)"
   ]
  },
  {
   "cell_type": "code",
   "execution_count": null,
   "id": "3f70489e-de2f-4cdd-a3fd-42d7ec0680b4",
   "metadata": {},
   "outputs": [],
   "source": [
    "preds_classes"
   ]
  },
  {
   "cell_type": "code",
   "execution_count": null,
   "id": "382f2bcb-36f1-4d25-a440-46124b21a0e1",
   "metadata": {},
   "outputs": [],
   "source": []
  }
 ],
 "metadata": {
  "kernelspec": {
   "display_name": "Python 3 (ipykernel)",
   "language": "python",
   "name": "python3"
  },
  "language_info": {
   "codemirror_mode": {
    "name": "ipython",
    "version": 3
   },
   "file_extension": ".py",
   "mimetype": "text/x-python",
   "name": "python",
   "nbconvert_exporter": "python",
   "pygments_lexer": "ipython3",
   "version": "3.8.10"
  }
 },
 "nbformat": 4,
 "nbformat_minor": 5
}
