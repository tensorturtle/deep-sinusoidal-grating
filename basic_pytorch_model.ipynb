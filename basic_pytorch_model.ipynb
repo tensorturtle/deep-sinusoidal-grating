{
 "cells": [
  {
   "cell_type": "markdown",
   "id": "5c84805a-5c5a-4f05-9d5d-6b916300f9b3",
   "metadata": {
    "tags": []
   },
   "source": [
    "# Testing PyTorch Dataset"
   ]
  },
  {
   "cell_type": "code",
   "execution_count": 1,
   "id": "bc2aa682-b2bf-443a-a906-937c58924ab7",
   "metadata": {},
   "outputs": [],
   "source": [
    "import torch\n",
    "import torch.nn as nn\n",
    "import torch.optim as optim\n",
    "import torch.nn.functional as F\n",
    "\n",
    "import torchvision\n",
    "import torchvision.transforms as transforms\n",
    "\n",
    "import matplotlib.pyplot as plt\n",
    "import numpy as np"
   ]
  },
  {
   "cell_type": "code",
   "execution_count": 2,
   "id": "d4b1c562-94d4-4a32-b446-269dbafb8631",
   "metadata": {},
   "outputs": [],
   "source": [
    "# manual seed for reproducibility\n",
    "torch.manual_seed(855413)\n",
    "np.random.seed(9991)"
   ]
  },
  {
   "cell_type": "code",
   "execution_count": 3,
   "id": "e9c62866-2696-478c-8ac4-9a120555a20c",
   "metadata": {},
   "outputs": [],
   "source": [
    "from SineGratesDataset import SineGrates"
   ]
  },
  {
   "cell_type": "code",
   "execution_count": 4,
   "id": "f5942401-89c3-4c39-b12f-210515d2f111",
   "metadata": {},
   "outputs": [],
   "source": [
    "transform = transforms.Compose(\n",
    "    [transforms.PILToTensor(),\n",
    "     transforms.ConvertImageDtype(torch.float)\n",
    "     #transforms.Normalize((0.5, 0.5, 0.5), (0.5, 0.5, 0.5))\n",
    "    ])"
   ]
  },
  {
   "cell_type": "code",
   "execution_count": 5,
   "id": "db253fb2-c5d5-4841-a9cd-f539dfd3358b",
   "metadata": {},
   "outputs": [],
   "source": [
    "trainset = SineGrates(cat_scheme='rb', length=256, transform=transform)\n",
    "testset = trainset\n",
    "#testset = SineGrates(cat_scheme='rb', length=1000, transform=transform)"
   ]
  },
  {
   "cell_type": "code",
   "execution_count": 6,
   "id": "9554ee80-0721-4f1d-a653-5d96a50960ef",
   "metadata": {},
   "outputs": [],
   "source": [
    "label, image = next(iter(trainset))"
   ]
  },
  {
   "cell_type": "code",
   "execution_count": 7,
   "id": "06b02e2b-452c-4aa0-a596-08702206f3df",
   "metadata": {},
   "outputs": [
    {
     "data": {
      "text/plain": [
       "tensor([0.5020, 0.5020, 0.5020, 0.5020, 0.5020, 0.5020, 0.5020, 0.5020, 0.5020,\n",
       "        0.5020, 0.5020, 0.5020, 0.5020, 0.5020, 0.5020, 0.5020, 0.5020, 0.5020,\n",
       "        0.5020, 0.5020, 0.5020, 0.5020, 0.4941, 0.4471, 0.3490, 0.2510, 0.1843,\n",
       "        0.1333, 0.0902, 0.0549, 0.0275, 0.0118, 0.0039, 0.0039, 0.0157, 0.0392,\n",
       "        0.0706, 0.1098, 0.1569, 0.2118, 0.2706, 0.3333, 0.4039, 0.4706, 0.5412,\n",
       "        0.6118, 0.6784, 0.7412, 0.8000, 0.8549, 0.8980, 0.9373, 0.9647, 0.9843,\n",
       "        0.9961, 0.9961, 0.9882, 0.9686, 0.9412, 0.9020, 0.8588, 0.8039, 0.7490,\n",
       "        0.6863, 0.6157, 0.5490, 0.4784, 0.4078, 0.3412, 0.2745, 0.2157, 0.1608,\n",
       "        0.1137, 0.0745, 0.0392, 0.0196, 0.0039, 0.0039, 0.0078, 0.0235, 0.0510,\n",
       "        0.0863, 0.1294, 0.1804, 0.2353, 0.2980, 0.3647, 0.4314, 0.5020, 0.5725,\n",
       "        0.6392, 0.7059, 0.7686, 0.8235, 0.8745, 0.9176, 0.9490, 0.9765, 0.9922,\n",
       "        0.9961, 0.9961, 0.9804, 0.9569, 0.9255, 0.8863, 0.8353, 0.7804, 0.7216,\n",
       "        0.6549, 0.5882, 0.5176, 0.4471, 0.3804, 0.3137, 0.2510, 0.1922, 0.1412,\n",
       "        0.0941, 0.0588, 0.0314, 0.0118, 0.0039, 0.0039, 0.0157, 0.0353, 0.0667,\n",
       "        0.1020, 0.1490, 0.2039, 0.2627, 0.3255, 0.3922, 0.4627, 0.5333, 0.6000,\n",
       "        0.6706, 0.7333, 0.7922, 0.8471, 0.8941, 0.9333, 0.9647, 0.9843, 0.9961,\n",
       "        0.9961, 0.9882, 0.9725, 0.9451, 0.9098, 0.8627, 0.8118, 0.7569, 0.6941,\n",
       "        0.6275, 0.5569, 0.4863, 0.4196, 0.3490, 0.2863, 0.2235, 0.1686, 0.1176,\n",
       "        0.0784, 0.0431, 0.0196, 0.0078, 0.0039, 0.0078, 0.0235, 0.0471, 0.0784,\n",
       "        0.1216, 0.1725, 0.2275, 0.2902, 0.3529, 0.4235, 0.4941, 0.5608, 0.6314,\n",
       "        0.6980, 0.7608, 0.8157, 0.8667, 0.9098, 0.9451, 0.9725, 0.9922, 0.9961,\n",
       "        0.9961, 0.9843, 0.9608, 0.9294, 0.8902, 0.8431, 0.7882, 0.7294, 0.6667,\n",
       "        0.5961, 0.5294, 0.4588, 0.3882, 0.3216, 0.2588, 0.2000, 0.1451, 0.1020,\n",
       "        0.0627, 0.0353, 0.0118, 0.0039, 0.0039, 0.0118, 0.0314, 0.0588, 0.0980,\n",
       "        0.1412, 0.1961, 0.2549, 0.3176, 0.3843, 0.4510, 0.5216, 0.5922, 0.6588,\n",
       "        0.7255, 0.7843, 0.8392, 0.8863, 0.9255, 0.9608, 0.9608, 0.8824, 0.7059,\n",
       "        0.5647, 0.5098, 0.5020, 0.5020, 0.5020, 0.5020, 0.5020, 0.5020, 0.5020,\n",
       "        0.5020, 0.5020, 0.5020, 0.5020, 0.5020, 0.5020, 0.5020, 0.5020, 0.5020,\n",
       "        0.5020, 0.5020, 0.5020, 0.5020])"
      ]
     },
     "execution_count": 7,
     "metadata": {},
     "output_type": "execute_result"
    }
   ],
   "source": [
    "image[0,100]"
   ]
  },
  {
   "cell_type": "code",
   "execution_count": 8,
   "id": "02a5d892-b0b4-4bcb-b1bc-e24654d09d1e",
   "metadata": {},
   "outputs": [
    {
     "data": {
      "text/plain": [
       "torch.Tensor"
      ]
     },
     "execution_count": 8,
     "metadata": {},
     "output_type": "execute_result"
    }
   ],
   "source": [
    "type(image)"
   ]
  },
  {
   "cell_type": "markdown",
   "id": "96cae938-ae7d-4eec-96cc-15cf5d054586",
   "metadata": {
    "tags": []
   },
   "source": [
    "# Setting up Data Pipeline"
   ]
  },
  {
   "cell_type": "code",
   "execution_count": 9,
   "id": "6826a59a-a4ce-49c7-a7f8-ae9e21a49c45",
   "metadata": {},
   "outputs": [],
   "source": [
    "batch_size = 4"
   ]
  },
  {
   "cell_type": "code",
   "execution_count": 10,
   "id": "c9ceebda-9437-497a-88db-6ca3077c6698",
   "metadata": {},
   "outputs": [],
   "source": [
    "trainloader = torch.utils.data.DataLoader(trainset, batch_size=batch_size, shuffle=True, num_workers=12)"
   ]
  },
  {
   "cell_type": "code",
   "execution_count": 11,
   "id": "5562d77c-96af-4438-a679-381bc489655c",
   "metadata": {},
   "outputs": [],
   "source": [
    "classes = ['Condition A', 'Condition B']"
   ]
  },
  {
   "cell_type": "code",
   "execution_count": 12,
   "id": "6ab4c76e-c444-4e53-9c37-05797e784925",
   "metadata": {},
   "outputs": [],
   "source": [
    "# functions to show an image\n",
    "def imshow(img):\n",
    "    npimg = img.numpy()\n",
    "    plt.imshow(np.transpose(npimg, (1, 2, 0)))\n",
    "    #plt.imshow(npimg)\n",
    "    plt.show()\n",
    "\n",
    "dataiter = iter(trainloader)\n",
    "labels, images = dataiter.next()"
   ]
  },
  {
   "cell_type": "code",
   "execution_count": 13,
   "id": "fe2923ef-e95c-4738-ae36-739c5720ac8e",
   "metadata": {},
   "outputs": [
    {
     "data": {
      "text/plain": [
       "torch.Size([4, 1, 256, 256])"
      ]
     },
     "execution_count": 13,
     "metadata": {},
     "output_type": "execute_result"
    }
   ],
   "source": [
    "images.shape"
   ]
  },
  {
   "cell_type": "code",
   "execution_count": 14,
   "id": "df40b6ef-7b3f-43d0-a96e-282bc11df56b",
   "metadata": {},
   "outputs": [
    {
     "data": {
      "image/png": "[encoded data removed]",
      "text/plain": [
       "<Figure size 432x288 with 1 Axes>"
      ]
     },
     "metadata": {
      "needs_background": "light"
     },
     "output_type": "display_data"
    },
    {
     "name": "stdout",
     "output_type": "stream",
     "text": [
      "Condition B Condition B Condition B Condition A\n"
     ]
    }
   ],
   "source": [
    "# show images\n",
    "imshow(torchvision.utils.make_grid(images))\n",
    "# print labels\n",
    "print(' '.join(f'{classes[labels[j]]:5s}' for j in range(batch_size)))"
   ]
  },
  {
   "cell_type": "code",
   "execution_count": 15,
   "id": "766c53ab-38ec-48fa-be65-4565476c9393",
   "metadata": {},
   "outputs": [
    {
     "data": {
      "text/plain": [
       "torch.Size([4, 1, 256, 256])"
      ]
     },
     "execution_count": 15,
     "metadata": {},
     "output_type": "execute_result"
    }
   ],
   "source": [
    "testloader = torch.utils.data.DataLoader(testset, batch_size=batch_size, shuffle=False, num_workers=12)\n",
    "dataiter = iter(testloader)\n",
    "labels, images = dataiter.next()\n",
    "\n",
    "images.shape"
   ]
  },
  {
   "cell_type": "code",
   "execution_count": 16,
   "id": "14843c0d-3416-4325-845b-1a50b6e8da63",
   "metadata": {},
   "outputs": [
    {
     "data": {
      "image/png": "[encoded data removed]",
      "text/plain": [
       "<Figure size 432x288 with 1 Axes>"
      ]
     },
     "metadata": {
      "needs_background": "light"
     },
     "output_type": "display_data"
    },
    {
     "name": "stdout",
     "output_type": "stream",
     "text": [
      "GroundTruth:  Condition A Condition A Condition A Condition A\n"
     ]
    }
   ],
   "source": [
    "# print images\n",
    "imshow(torchvision.utils.make_grid(images))\n",
    "print('GroundTruth: ', ' '.join(f'{classes[labels[j]]:5s}' for j in range(batch_size)))"
   ]
  },
  {
   "cell_type": "markdown",
   "id": "f1fd67df-122c-4bba-b16e-19a78b5416be",
   "metadata": {
    "tags": []
   },
   "source": [
    "# Define a Neural Network"
   ]
  },
  {
   "cell_type": "code",
   "execution_count": 17,
   "id": "131d0892-c4ca-4620-bae9-ea54771a5bd3",
   "metadata": {},
   "outputs": [],
   "source": [
    "class AlexNet(nn.Module):\n",
    "    def __init__(self, num_classes: int = 2, dropout: float = 0.5) -> None:\n",
    "        super().__init__()\n",
    "        self.features = nn.Sequential(\n",
    "            nn.Conv2d(1, 2, kernel_size=11, stride=4, padding=2),\n",
    "            nn.ReLU(inplace=True),\n",
    "            nn.MaxPool2d(kernel_size=3, stride=2),\n",
    "            nn.Conv2d(2, 2, kernel_size=5, padding=2),\n",
    "            nn.ReLU(inplace=True),\n",
    "            nn.MaxPool2d(kernel_size=3, stride=2),\n",
    "            nn.Conv2d(2, 2, kernel_size=3, padding=1),\n",
    "            nn.ReLU(inplace=True),\n",
    "            nn.Conv2d(2, 2, kernel_size=3, padding=1),\n",
    "            nn.ReLU(inplace=True),\n",
    "            nn.Conv2d(2, 2, kernel_size=3, padding=1),\n",
    "            nn.ReLU(inplace=True),\n",
    "            nn.MaxPool2d(kernel_size=3, stride=2),\n",
    "        )\n",
    "        #self.avgpool = nn.AdaptiveAvgPool2d((6, 6))\n",
    "        self.classifier = nn.Sequential(\n",
    "            #nn.Dropout(p=dropout),\n",
    "            #nn.Linear(128 * 6 * 6, 16),\n",
    "            \n",
    "            #nn.Linear(2 * 7 * 7, 32),\n",
    "            nn.Linear(2 * 7 * 7, num_classes)\n",
    "            \n",
    "            #nn.ReLU(inplace=True),\n",
    "            #nn.Dropout(p=dropout),\n",
    "            #nn.Linear(4096, 4096),\n",
    "            #nn.ReLU(inplace=True),\n",
    "            #nn.Linear(32, num_classes),\n",
    "        )\n",
    "\n",
    "    def forward(self, x: torch.Tensor) -> torch.Tensor:\n",
    "        x = self.features(x)\n",
    "        #print(x.shape)\n",
    "        #x = self.avgpool(x)\n",
    "        x = torch.flatten(x, 1)\n",
    "        x = self.classifier(x)\n",
    "        return x\n"
   ]
  },
  {
   "cell_type": "code",
   "execution_count": 18,
   "id": "23119271-3fa8-4851-a4db-612b89649ab3",
   "metadata": {},
   "outputs": [],
   "source": [
    "net = AlexNet()\n",
    "net = net.cuda()"
   ]
  },
  {
   "cell_type": "markdown",
   "id": "f077848c-3ccd-4536-98be-18f908e6d000",
   "metadata": {},
   "source": [
    "# Define Loss Function and Optimizer"
   ]
  },
  {
   "cell_type": "code",
   "execution_count": 19,
   "id": "3ce20261-0e95-4987-a235-81addb5dd1db",
   "metadata": {},
   "outputs": [],
   "source": [
    "criterion = nn.CrossEntropyLoss()\n",
    "#optimizer = optim.SGD(net.parameters(), lr=0.01, momentum=0.5)\n",
    "optimizer = optim.Adam(net.parameters(), lr=1e-3)"
   ]
  },
  {
   "cell_type": "code",
   "execution_count": null,
   "id": "1eb9cbae-0c43-4592-983b-d9e1df4909b6",
   "metadata": {
    "tags": []
   },
   "outputs": [
    {
     "name": "stdout",
     "output_type": "stream",
     "text": [
      "Epoch 1, loss: 80.387\n",
      "\tTest Accuracy: 93.164 %\n",
      "Epoch 2, loss: 21.858\n",
      "\tTest Accuracy: 97.461 %\n",
      "Epoch 3, loss: 8.896\n",
      "\tTest Accuracy: 99.023 %\n",
      "Epoch 4, loss: 4.703\n",
      "\tTest Accuracy: 97.461 %\n",
      "Epoch 5, loss: 6.453\n",
      "\tTest Accuracy: 99.609 %\n",
      "Epoch 6, loss: 3.379\n",
      "\tTest Accuracy: 99.609 %\n",
      "Epoch 7, loss: 4.418\n",
      "\tTest Accuracy: 99.805 %\n",
      "Epoch 8, loss: 3.461\n",
      "\tTest Accuracy: 99.805 %\n",
      "Epoch 9, loss: 1.922\n",
      "\tTest Accuracy: 99.609 %\n",
      "Epoch 10, loss: 1.550\n",
      "\tTest Accuracy: 99.609 %\n",
      "Epoch 11, loss: 1.045\n",
      "\tTest Accuracy: 99.805 %\n",
      "Epoch 12, loss: 3.532\n",
      "\tTest Accuracy: 98.242 %\n",
      "Epoch 13, loss: 2.710\n",
      "\tTest Accuracy: 99.023 %\n",
      "Epoch 14, loss: 2.566\n",
      "\tTest Accuracy: 99.805 %\n",
      "Epoch 15, loss: 0.782\n",
      "\tTest Accuracy: 99.805 %\n",
      "Epoch 16, loss: 1.648\n",
      "\tTest Accuracy: 99.805 %\n",
      "Epoch 17, loss: 0.814\n",
      "\tTest Accuracy: 100.000 %\n",
      "Epoch 18, loss: 0.674\n",
      "\tTest Accuracy: 100.000 %\n",
      "Epoch 19, loss: 0.582\n",
      "\tTest Accuracy: 98.438 %\n",
      "Epoch 20, loss: 2.285\n",
      "\tTest Accuracy: 99.805 %\n",
      "Epoch 21, loss: 0.703\n",
      "\tTest Accuracy: 99.805 %\n",
      "Epoch 22, loss: 1.180\n",
      "\tTest Accuracy: 99.414 %\n",
      "Epoch 23, loss: 0.765\n",
      "\tTest Accuracy: 99.805 %\n",
      "Epoch 24, loss: 0.789\n",
      "\tTest Accuracy: 100.000 %\n",
      "Epoch 25, loss: 0.257\n",
      "\tTest Accuracy: 100.000 %\n",
      "Epoch 26, loss: 0.086\n",
      "\tTest Accuracy: 100.000 %\n",
      "Epoch 27, loss: 0.067\n",
      "\tTest Accuracy: 100.000 %\n",
      "Epoch 28, loss: 0.031\n",
      "\tTest Accuracy: 100.000 %\n",
      "Epoch 29, loss: 0.031\n",
      "\tTest Accuracy: 100.000 %\n",
      "Epoch 30, loss: 0.039\n",
      "\tTest Accuracy: 100.000 %\n",
      "Epoch 31, loss: 0.026\n",
      "\tTest Accuracy: 100.000 %\n",
      "Epoch 32, loss: 0.019\n",
      "\tTest Accuracy: 100.000 %\n",
      "Epoch 33, loss: 0.022\n",
      "\tTest Accuracy: 100.000 %\n",
      "Epoch 34, loss: 0.015\n",
      "\tTest Accuracy: 100.000 %\n",
      "Epoch 35, loss: 0.015\n",
      "\tTest Accuracy: 100.000 %\n",
      "Epoch 36, loss: 0.014\n",
      "\tTest Accuracy: 100.000 %\n",
      "Epoch 37, loss: 0.011\n",
      "\tTest Accuracy: 100.000 %\n",
      "Epoch 38, loss: 0.009\n",
      "\tTest Accuracy: 100.000 %\n",
      "Epoch 39, loss: 0.009\n",
      "\tTest Accuracy: 100.000 %\n",
      "Epoch 40, loss: 0.008\n",
      "\tTest Accuracy: 100.000 %\n",
      "Epoch 41, loss: 0.009\n",
      "\tTest Accuracy: 100.000 %\n",
      "Epoch 42, loss: 0.008\n",
      "\tTest Accuracy: 100.000 %\n",
      "Epoch 43, loss: 0.006\n",
      "\tTest Accuracy: 100.000 %\n",
      "Epoch 44, loss: 0.006\n",
      "\tTest Accuracy: 100.000 %\n",
      "Epoch 45, loss: 0.005\n",
      "\tTest Accuracy: 100.000 %\n",
      "Epoch 46, loss: 0.005\n",
      "\tTest Accuracy: 100.000 %\n",
      "Epoch 47, loss: 0.007\n",
      "\tTest Accuracy: 100.000 %\n",
      "Epoch 48, loss: 0.004\n",
      "\tTest Accuracy: 100.000 %\n",
      "Epoch 49, loss: 0.004\n",
      "\tTest Accuracy: 100.000 %\n",
      "Epoch 50, loss: 0.004\n",
      "\tTest Accuracy: 100.000 %\n",
      "Epoch 51, loss: 0.003\n",
      "\tTest Accuracy: 100.000 %\n",
      "Epoch 52, loss: 0.004\n",
      "\tTest Accuracy: 100.000 %\n",
      "Epoch 53, loss: 0.003\n",
      "\tTest Accuracy: 100.000 %\n",
      "Epoch 54, loss: 0.003\n",
      "\tTest Accuracy: 100.000 %\n",
      "Epoch 55, loss: 0.003\n",
      "\tTest Accuracy: 100.000 %\n",
      "Epoch 56, loss: 0.002\n",
      "\tTest Accuracy: 100.000 %\n",
      "Epoch 57, loss: 0.002\n",
      "\tTest Accuracy: 100.000 %\n",
      "Epoch 58, loss: 0.002\n",
      "\tTest Accuracy: 100.000 %\n",
      "Epoch 59, loss: 0.002\n",
      "\tTest Accuracy: 100.000 %\n",
      "Epoch 60, loss: 0.002\n",
      "\tTest Accuracy: 100.000 %\n",
      "Epoch 61, loss: 0.001\n",
      "\tTest Accuracy: 100.000 %\n",
      "Epoch 62, loss: 0.001\n",
      "\tTest Accuracy: 100.000 %\n",
      "Epoch 63, loss: 0.001\n",
      "\tTest Accuracy: 100.000 %\n",
      "Epoch 64, loss: 0.001\n",
      "\tTest Accuracy: 100.000 %\n",
      "Epoch 65, loss: 0.001\n",
      "\tTest Accuracy: 100.000 %\n",
      "Epoch 66, loss: 0.001\n",
      "\tTest Accuracy: 100.000 %\n",
      "Epoch 67, loss: 0.001\n",
      "\tTest Accuracy: 100.000 %\n",
      "Epoch 68, loss: 0.002\n",
      "\tTest Accuracy: 100.000 %\n",
      "Epoch 69, loss: 0.001\n",
      "\tTest Accuracy: 100.000 %\n",
      "Epoch 70, loss: 0.001\n",
      "\tTest Accuracy: 100.000 %\n",
      "Epoch 71, loss: 0.001\n",
      "\tTest Accuracy: 100.000 %\n",
      "Epoch 72, loss: 0.001\n",
      "\tTest Accuracy: 100.000 %\n",
      "Epoch 73, loss: 0.001\n",
      "\tTest Accuracy: 100.000 %\n",
      "Epoch 74, loss: 0.000\n",
      "\tTest Accuracy: 100.000 %\n",
      "Epoch 75, loss: 0.001\n",
      "\tTest Accuracy: 100.000 %\n",
      "Epoch 76, loss: 0.001\n",
      "\tTest Accuracy: 100.000 %\n",
      "Epoch 77, loss: 0.000\n",
      "\tTest Accuracy: 100.000 %\n",
      "Epoch 78, loss: 0.000\n",
      "\tTest Accuracy: 100.000 %\n",
      "Epoch 79, loss: 0.000\n",
      "\tTest Accuracy: 100.000 %\n",
      "Epoch 80, loss: 0.000\n",
      "\tTest Accuracy: 100.000 %\n",
      "Epoch 81, loss: 0.000\n",
      "\tTest Accuracy: 100.000 %\n",
      "Epoch 82, loss: 0.000\n",
      "\tTest Accuracy: 100.000 %\n",
      "Epoch 83, loss: 0.000\n",
      "\tTest Accuracy: 100.000 %\n",
      "Epoch 84, loss: 0.000\n",
      "\tTest Accuracy: 100.000 %\n",
      "Epoch 85, loss: 0.000\n",
      "\tTest Accuracy: 100.000 %\n",
      "Epoch 86, loss: 0.000\n",
      "\tTest Accuracy: 100.000 %\n",
      "Epoch 87, loss: 0.000\n",
      "\tTest Accuracy: 100.000 %\n",
      "Epoch 88, loss: 0.000\n",
      "\tTest Accuracy: 100.000 %\n",
      "Epoch 89, loss: 0.000\n",
      "\tTest Accuracy: 100.000 %\n",
      "Epoch 90, loss: 0.000\n",
      "\tTest Accuracy: 100.000 %\n",
      "Epoch 91, loss: 0.000\n",
      "\tTest Accuracy: 100.000 %\n",
      "Epoch 92, loss: 0.000\n",
      "\tTest Accuracy: 100.000 %\n",
      "Epoch 93, loss: 0.000\n",
      "\tTest Accuracy: 100.000 %\n",
      "Epoch 94, loss: 0.000\n",
      "\tTest Accuracy: 100.000 %\n",
      "Epoch 95, loss: 0.000\n",
      "\tTest Accuracy: 100.000 %\n",
      "Epoch 96, loss: 0.000\n",
      "\tTest Accuracy: 100.000 %\n",
      "Epoch 97, loss: 0.000\n",
      "\tTest Accuracy: 100.000 %\n",
      "Epoch 98, loss: 0.000\n",
      "\tTest Accuracy: 100.000 %\n",
      "Epoch 99, loss: 0.000\n",
      "\tTest Accuracy: 100.000 %\n",
      "Epoch 100, loss: 0.000\n",
      "\tTest Accuracy: 100.000 %\n",
      "Epoch 101, loss: 0.000\n",
      "\tTest Accuracy: 100.000 %\n",
      "Epoch 102, loss: 0.000\n",
      "\tTest Accuracy: 100.000 %\n",
      "Epoch 103, loss: 0.000\n",
      "\tTest Accuracy: 100.000 %\n",
      "Epoch 104, loss: 0.000\n",
      "\tTest Accuracy: 100.000 %\n",
      "Epoch 105, loss: 0.000\n",
      "\tTest Accuracy: 100.000 %\n",
      "Epoch 106, loss: 0.000\n",
      "\tTest Accuracy: 100.000 %\n",
      "Epoch 107, loss: 0.000\n",
      "\tTest Accuracy: 100.000 %\n",
      "Epoch 108, loss: 0.000\n",
      "\tTest Accuracy: 100.000 %\n",
      "Epoch 109, loss: 0.000\n",
      "\tTest Accuracy: 100.000 %\n",
      "Epoch 110, loss: 0.000\n",
      "\tTest Accuracy: 100.000 %\n",
      "Epoch 111, loss: 0.000\n",
      "\tTest Accuracy: 100.000 %\n",
      "Epoch 112, loss: 0.000\n",
      "\tTest Accuracy: 100.000 %\n",
      "Epoch 113, loss: 0.000\n",
      "\tTest Accuracy: 100.000 %\n",
      "Epoch 114, loss: 0.000\n"
     ]
    }
   ],
   "source": [
    "for epoch in range(300):\n",
    "    running_loss = 0.0\n",
    "    for i, data in enumerate(trainloader, 0):\n",
    "        labels, images = data\n",
    "        images = 2 * (images - 0.5002) # [0-1] to [-1,1]\n",
    "        images = images.cuda()\n",
    "        labels = labels.cuda()\n",
    "        optimizer.zero_grad()\n",
    "        outputs = net(images)\n",
    "        loss = criterion(outputs, labels)\n",
    "        loss.backward()\n",
    "        optimizer.step()\n",
    "        \n",
    "        running_loss += loss.item()\n",
    "    print(f\"Epoch {epoch + 1}, loss: {running_loss:.3f}\")\n",
    "    running_loss = 0.0\n",
    "    with torch.no_grad():\n",
    "        correct = 0\n",
    "        total = 0\n",
    "        for i,data in enumerate(testloader,0):\n",
    "            labels, images = data\n",
    "            images = 2 * (images - 0.5002)\n",
    "            images = images.cuda()\n",
    "            labels = labels.cuda()\n",
    "            outputs = net(images)\n",
    "            softmax_labels = F.log_softmax(outputs, dim=1)\n",
    "            preds_classes = torch.argmax(softmax_labels, axis=-1)\n",
    "            correct += int(torch.sum(preds_classes.cpu() == labels.cpu()))\n",
    "            total += batch_size\n",
    "        print(f\"\\tTest Accuracy: {100*correct/total:.3f} %\")\n"
   ]
  },
  {
   "cell_type": "markdown",
   "id": "2c19bee1-fc64-4da7-bf7a-9c0a55d3546a",
   "metadata": {},
   "source": [
    "No circular mask: Max accuracy 89.286% reached at Epoch 45\n",
    "With circular mask: Max accuracy 89.286% reached at Epoch Epoch 51"
   ]
  },
  {
   "cell_type": "markdown",
   "id": "e3b607d9-0fd0-4aa3-8e83-7139987327db",
   "metadata": {},
   "source": [
    "Hilarious and shocking: Making the training set tiny (10) and overfittinng the training set returned the best model. Loss: 0.0, Test accuracy: 95.5%. (ii condition)\n",
    "\n",
    "Same for 'rb' condition, but even higher accuracy: 97.0%\n",
    "\n",
    "+ Adam lr=3e-5\n",
    "\n",
    "This network (AlexNet-like) doesn't overfit the dataset beyond 80 training set, although maximum accuracy is reached at 160. (100%). The exact number depends on the numpy random seed (for dataset distribution).\n",
    "\n",
    "I kept trying to weaken/lighten the neural network,\n",
    "going so far as to replace Conv layers with AvgPool.\n",
    "When it got stuck, I changed the seed.\n",
    "\n",
    "Generally, lighter networks started tended to take longer to train."
   ]
  },
  {
   "cell_type": "markdown",
   "id": "c13f87e9-ff96-44d7-9fdb-ec287adde851",
   "metadata": {},
   "source": [
    "ii\n",
    "```\n",
    "Epoch 1, loss: 85.18336582183838\n",
    "Epoch 2, loss: 34.31419908697717\n",
    "Epoch 3, loss: 20.531744883628562\n",
    "Epoch 4, loss: 10.242627459112555\n",
    "Epoch 5, loss: 8.574068777030334\n",
    "Epoch 6, loss: 6.0638184630115575\n",
    "Epoch 7, loss: 6.023264018360351\n",
    "Epoch 8, loss: 5.1939516832790105\n",
    "Epoch 9, loss: 5.4007573618218885\n",
    "Epoch 10, loss: 5.164374641648465\n",
    "Epoch 11, loss: 3.511080036558269\n",
    "Epoch 12, loss: 4.276801145038917\n",
    "Epoch 13, loss: 3.6609255538830894\n",
    "Epoch 14, loss: 4.6994722907015785\n",
    "Epoch 15, loss: 4.765986231519491\n",
    "Epoch 16, loss: 4.714876491774248\n",
    "Epoch 17, loss: 4.739646985006402\n",
    "Epoch 18, loss: 3.8179756865556556\n",
    "Epoch 19, loss: 3.849432604794856\n",
    "Epoch 20, loss: 4.121982953985935\n",
    "Epoch 21, loss: 3.3283890375539613\n",
    "Epoch 22, loss: 5.158853088214528\n",
    "Epoch 23, loss: 3.3509279994996177\n",
    "Epoch 24, loss: 4.925103814290196\n",
    "Epoch 25, loss: 3.597546736024924\n",
    "Epoch 26, loss: 3.4156451058997845\n",
    "Epoch 27, loss: 3.92656532269757\n",
    "Epoch 28, loss: 3.454477835464786\n",
    "Epoch 29, loss: 4.126161962380138\n",
    "```"
   ]
  },
  {
   "cell_type": "markdown",
   "id": "b92c61e9-70f8-460b-b944-5cc1652d8383",
   "metadata": {},
   "source": [
    "rb\n",
    "```\n",
    "Epoch 1, loss: 81.22609773278236\n",
    "Epoch 2, loss: 14.698232750408351\n",
    "Epoch 3, loss: 7.9504072612617165\n",
    "Epoch 4, loss: 5.531502670957707\n",
    "Epoch 5, loss: 2.597533548818319\n",
    "Epoch 6, loss: 3.287875532914768\n",
    "Epoch 7, loss: 1.6578662709071068\n",
    "Epoch 8, loss: 2.9465451682626735\n",
    "Epoch 9, loss: 3.038850345830724\n",
    "Epoch 10, loss: 1.9624634058345691\n",
    "Epoch 11, loss: 2.759255254357413\n",
    "Epoch 12, loss: 2.156060866313055\n",
    "Epoch 13, loss: 2.234694680584653\n",
    "Epoch 14, loss: 2.082504246973258\n",
    "Epoch 15, loss: 2.892491750237241\n",
    "Epoch 16, loss: 2.1645498814541497\n",
    "Epoch 17, loss: 2.2291575001727324\n",
    "Epoch 18, loss: 1.7113196223872364\n",
    "Epoch 19, loss: 1.599599110239069\n",
    "Epoch 20, loss: 1.6463019263683236\n",
    "Epoch 21, loss: 1.765304080741771\n",
    "Epoch 22, loss: 2.0521400574434665\n",
    "Epoch 23, loss: 2.256082821975724\n",
    "Epoch 24, loss: 2.027793706598459\n",
    "Epoch 25, loss: 1.510054058764581\n",
    "Epoch 26, loss: 1.9244091983491671\n",
    "Epoch 27, loss: 1.6030073140500463\n",
    "Epoch 28, loss: 1.3176469673635438\n",
    "Epoch 29, loss: 1.6648579663578857\n",
    "```"
   ]
  },
  {
   "cell_type": "code",
   "execution_count": null,
   "id": "dbe013f7-a28e-40b0-a3cf-5f3bf30fa63a",
   "metadata": {},
   "outputs": [],
   "source": []
  }
 ],
 "metadata": {
  "kernelspec": {
   "display_name": "Python 3 (ipykernel)",
   "language": "python",
   "name": "python3"
  },
  "language_info": {
   "codemirror_mode": {
    "name": "ipython",
    "version": 3
   },
   "file_extension": ".py",
   "mimetype": "text/x-python",
   "name": "python",
   "nbconvert_exporter": "python",
   "pygments_lexer": "ipython3",
   "version": "3.8.10"
  }
 },
 "nbformat": 4,
 "nbformat_minor": 5
}
