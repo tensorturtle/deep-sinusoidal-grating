{
 "cells": [
  {
   "cell_type": "markdown",
   "id": "a14a33f7-3f4c-419f-a27a-2b6cee73f3e3",
   "metadata": {},
   "source": [
    "# Literature"
   ]
  },
  {
   "cell_type": "markdown",
   "id": "3ebe2b9f-7719-4a5e-bd39-43e063789fb6",
   "metadata": {},
   "source": [
    "```\n",
    "POSNER, MICHAEL I.; GOLDSMITH, RALPH; WELTON, KENNETH E., Jr. (1967). PERCEIVED DISTANCE AND THE CLASSIFICATION OF DISTORTED PATTERNS.. Journal of Experimental Psychology, 73(1), 28–38. doi:10.1037/h0024135  \n",
    "```\n",
    "\n",
    "https://sci.bban.top/pdf/10.1037/h0024135.pdf#view=FitH"
   ]
  },
  {
   "cell_type": "markdown",
   "id": "34a34c14-00e0-4f87-898a-92135da12742",
   "metadata": {},
   "source": [
    "```\n",
    "Smith, J. David; Redford, Joshua S.; Gent, Lauren C.; Washburn, David A. (2005). Visual Search and the Collapse of Categorization.. Journal of Experimental Psychology: General, 134(4), 443–460. doi:10.1037/0096-3445.134.4.443  \n",
    "```\n",
    "https://sci-hub.yncjkj.com/10.1037/0096-3445.134.4.443"
   ]
  },
  {
   "cell_type": "markdown",
   "id": "7a5b2ef2-dc44-48a6-b9d7-fde853650652",
   "metadata": {},
   "source": [
    "![Posner, 1967](assets/posner-1967-fig1.png)"
   ]
  },
  {
   "cell_type": "markdown",
   "id": "47f3514c-e4ab-42dd-846f-d2b654f95b8b",
   "metadata": {},
   "source": [
    "![Smith, 2005. Figure 1](assets/smith-2005-fig1.png)"
   ]
  },
  {
   "cell_type": "markdown",
   "id": "79e81fdb-cc0a-4d24-b024-d2aad673b076",
   "metadata": {},
   "source": [
    "![Smith, 2005](assets/smith-2005-appendix.png)"
   ]
  },
  {
   "cell_type": "markdown",
   "id": "e4f3a7e1-46b1-4cd0-9786-bf94078c5fe6",
   "metadata": {},
   "source": [
    "# Tools"
   ]
  },
  {
   "cell_type": "markdown",
   "id": "55164fda-2f83-4efd-a55f-76cda412bbe8",
   "metadata": {},
   "source": [
    "mpl_point_clicker. Extension to matplotlib that lets you click on points on a graph. https://mpl-point-clicker.readthedocs.io/en/latest/"
   ]
  },
  {
   "cell_type": "code",
   "execution_count": 2079,
   "id": "dc3c79cd",
   "metadata": {},
   "outputs": [],
   "source": [
    "import imageio\n",
    "import numpy as np\n",
    "import random"
   ]
  },
  {
   "cell_type": "code",
   "execution_count": 2080,
   "id": "3685d7e9-4331-402d-83bc-13cf21a29b4c",
   "metadata": {},
   "outputs": [],
   "source": [
    "def random_points_from_grid(num_points=9, central_area_side=30, total_area_side=50):\n",
    "    '''\n",
    "    \"Choose 9 points randomly from the central 30x30 area of a 50x50 grid\"\n",
    "    Becomes the initial point of the dot distortion shapes.\n",
    "    '''\n",
    "    points = []\n",
    "    for i in range(num_points):\n",
    "        x = random.randint(total_area_side/2-central_area_side/2, total_area_side/2 + central_area_side/2)\n",
    "        y = random.randint(total_area_side/2-central_area_side/2, total_area_side/2 + central_area_side/2)\n",
    "        points.append((x, y))\n",
    "    return points"
   ]
  },
  {
   "cell_type": "code",
   "execution_count": 2081,
   "id": "fcc180ee",
   "metadata": {},
   "outputs": [],
   "source": [
    "def create_relative_coordinates(dot_block_image_path='dot_distortion_areas.png'):\n",
    "    '''\n",
    "    I created a 21x21 pixel PNG image using GIMP that has different brightness values for each kind of 'area'.\n",
    "    This function parses that image to return a list of tuples of relative coordinates for each area.\n",
    "    Areas are 1,2,3,4,5.\n",
    "    '''\n",
    "    im = imageio.imread(dot_block_image_path)\n",
    "\n",
    "    pixel_brightness = sorted(set(im[10]))\n",
    "    brightness_to_areas = dict()\n",
    "    for i, num in enumerate(pixel_brightness):\n",
    "        brightness_to_areas.update({num: i+1})\n",
    "\n",
    "    areas_array = np.zeros(im.shape)\n",
    "\n",
    "    for i in range(len(areas_array)):\n",
    "        for j in range(len(areas_array[i])):\n",
    "            areas_array[i][j] = brightness_to_areas[im[i][j]]\n",
    "\n",
    "    assert set(areas_array.flatten()) == {1, 2, 3, 4, 5} # ensure that all pixel values have been converted to areas indexes\n",
    "\n",
    "    coords_per_area = []\n",
    "    for k in range(1,len(set(areas_array.flatten()))+1):\n",
    "        coords_per_area.append([(i,j) for i in range(len(areas_array)) for j in range(len(areas_array[i])) if areas_array[i][j] == k])\n",
    "\n",
    "    # subtract (10,10) from all coords; turn into relative values from center pixel\n",
    "    rel_coords_per_area = coords_per_area\n",
    "    for i in range(len(coords_per_area)):\n",
    "        rel_coords_per_area[i] = [(x-10,y-10) for (x,y) in coords_per_area[i]]\n",
    "\n",
    "    return rel_coords_per_area\n",
    "        "
   ]
  },
  {
   "cell_type": "code",
   "execution_count": 2082,
   "id": "004365a9",
   "metadata": {},
   "outputs": [],
   "source": [
    "def distort_dot(coords, distortion_level, relative_shifts, area_names=[1,2,3,4,5]):\n",
    "    '''\n",
    "    Randomly move dot to corresponding area_name according to a probability distribution for area_names given by distortion_level\n",
    "\n",
    "    coords (tuple(int,int)): (x, y) point coordinates\n",
    "    distortion_level (str): choose from '1', '2', '3', '4', '5', '6', '7.7'\n",
    "    relative_shifts (list[list[tuple(int,int)]]): list of lists of relative coordinates for each area_name\n",
    "    area_names (list[int])\n",
    "    '''\n",
    "    level_to_probs = {\n",
    "        # level names correspond to bits per dot\n",
    "        # value is the probability distribution over the 5 area_names\n",
    "        '1' : (0.88, 0.10, 0.015, 0.004, 0.001),\n",
    "        '2' : (0.75, 0.15, 0.05, 0.03, 0.02),\n",
    "        '3' : (0.59, 0.20, 0.16, 0.03, 0.02),\n",
    "        '4' : (0.36, 0.48, 0.06, 0.05, 0.05),\n",
    "        '5' : (0.20, 0.30, 0.40, 0.05, 0.05),\n",
    "        '6' : (0, 0.40, 0.32, 0.15, 0.13),\n",
    "        '7.7': (0, 0.24, 0.16, 0.30, 0.30)\n",
    "    }\n",
    "    # check that all probability distributions sum to 1\n",
    "    for x in ['1','2','3','4','5','6','7.7']:\n",
    "        assert sum(level_to_probs[x]) == 1.0\n",
    "\n",
    "\n",
    "    probs = level_to_probs[distortion_level]\n",
    "    area_selection = np.random.choice(area_names, p=probs)\n",
    "    pixel_shift_selection = random.choice(relative_shifts[area_selection-1])\n",
    "    return (coords[0] + pixel_shift_selection[0], coords[1] + pixel_shift_selection[1])\n",
    "    "
   ]
  },
  {
   "cell_type": "code",
   "execution_count": 2083,
   "id": "d4ad8895",
   "metadata": {},
   "outputs": [],
   "source": [
    "def scale_coords(coords, scale_factor=3):\n",
    "    '''\n",
    "    Scale coordinates by a factor\n",
    "    '''\n",
    "    return (coords[0]*scale_factor, coords[1]*scale_factor)"
   ]
  },
  {
   "cell_type": "code",
   "execution_count": 2084,
   "id": "6e6b48b5",
   "metadata": {},
   "outputs": [],
   "source": [
    "relative_shifts = create_relative_coordinates()"
   ]
  },
  {
   "cell_type": "code",
   "execution_count": 2085,
   "id": "201e1c81",
   "metadata": {},
   "outputs": [
    {
     "data": {
      "text/plain": [
       "(11, 9)"
      ]
     },
     "execution_count": 2085,
     "metadata": {},
     "output_type": "execute_result"
    }
   ],
   "source": [
    "distort_dot(coords=(10,10), distortion_level='6', relative_shifts=relative_shifts)"
   ]
  },
  {
   "cell_type": "code",
   "execution_count": 2086,
   "id": "bbb9deac",
   "metadata": {},
   "outputs": [],
   "source": [
    "shifted_points = []\n",
    "for p in random_points_from_grid():\n",
    "    shifted_points.append(distort_dot(coords=p, distortion_level='6', relative_shifts=relative_shifts))"
   ]
  },
  {
   "cell_type": "code",
   "execution_count": 2087,
   "id": "5076b3df",
   "metadata": {},
   "outputs": [
    {
     "data": {
      "text/plain": [
       "[(43, 25),\n",
       " (38, 24),\n",
       " (13, 25),\n",
       " (8, 17),\n",
       " (28, 14),\n",
       " (16, 29),\n",
       " (22, 31),\n",
       " (13, 36),\n",
       " (16, 20)]"
      ]
     },
     "execution_count": 2087,
     "metadata": {},
     "output_type": "execute_result"
    }
   ],
   "source": [
    "shifted_points"
   ]
  },
  {
   "cell_type": "code",
   "execution_count": 2088,
   "id": "c10b8522",
   "metadata": {},
   "outputs": [],
   "source": [
    "scaled_points = [scale_coords(c, scale_factor=3) for c in shifted_points]"
   ]
  },
  {
   "cell_type": "code",
   "execution_count": 2089,
   "id": "46268c04",
   "metadata": {},
   "outputs": [
    {
     "data": {
      "text/plain": [
       "[(129, 75),\n",
       " (114, 72),\n",
       " (39, 75),\n",
       " (24, 51),\n",
       " (84, 42),\n",
       " (48, 87),\n",
       " (66, 93),\n",
       " (39, 108),\n",
       " (48, 60)]"
      ]
     },
     "execution_count": 2089,
     "metadata": {},
     "output_type": "execute_result"
    }
   ],
   "source": [
    "scaled_points"
   ]
  },
  {
   "cell_type": "code",
   "execution_count": 2090,
   "id": "4d9a9512",
   "metadata": {},
   "outputs": [
    {
     "data": {
      "text/plain": [
       "[(129, 75),\n",
       " (114, 72),\n",
       " (39, 75),\n",
       " (24, 51),\n",
       " (84, 42),\n",
       " (48, 87),\n",
       " (66, 93),\n",
       " (39, 108),\n",
       " (48, 60)]"
      ]
     },
     "execution_count": 2090,
     "metadata": {},
     "output_type": "execute_result"
    }
   ],
   "source": [
    "scaled_points"
   ]
  },
  {
   "cell_type": "code",
   "execution_count": 2091,
   "id": "b3669587",
   "metadata": {},
   "outputs": [
    {
     "data": {
      "text/plain": [
       "<matplotlib.image.AxesImage at 0x7f025af7ac40>"
      ]
     },
     "execution_count": 2091,
     "metadata": {},
     "output_type": "execute_result"
    },
    {
     "data": {
      "image/png": "[encoded data removed]",
      "text/plain": [
       "<Figure size 432x288 with 1 Axes>"
      ]
     },
     "metadata": {
      "needs_background": "light"
     },
     "output_type": "display_data"
    }
   ],
   "source": [
    "import cv2\n",
    "import matplotlib.pyplot as plt\n",
    "img = np.zeros([150, 150, 1],np.uint8)\n",
    "a = np.array(scaled_points)\n",
    "cv2.drawContours(img, [a], 0, (255,255,255), 1) # draw lines\n",
    "\n",
    "# fill enclosed spaces with white\n",
    "cnts = cv2.findContours(img, cv2.RETR_EXTERNAL, cv2.CHAIN_APPROX_SIMPLE)\n",
    "cnts = cnts[0] if len(cnts) == 2 else cnts[1]\n",
    "\n",
    "for c in cnts:\n",
    "    cv2.drawContours(img,[c], 0, (255,255,255), -1)\n",
    "\n",
    "# fill white with one of 11 patterns (random)\n",
    "pattern_num = random.choice(range(1,11+1))\n",
    "pattern_img = cv2.imread('fill_patterns/p'+str(pattern_num)+'.png', 0)\n",
    "\n",
    "# stack pattern n times vertically and horizontally (pattern was screenshot from the paper, so not high quality)\n",
    "pattern_img = np.hstack([pattern_img]*5)\n",
    "pattern_img = np.vstack([pattern_img]*5)\n",
    "\n",
    "# resize pattern_img to be the same size as img\n",
    "pattern_img = cv2.resize(pattern_img, (img.shape[1], img.shape[0]))\n",
    "img = cv2.bitwise_and(img, pattern_img)\n",
    "\n",
    "cv2.drawContours(img, [a], 0, (255,255,255), 1) # draw lines\n",
    "    \n",
    "plt.imshow(img, cmap='gray')"
   ]
  },
  {
   "cell_type": "markdown",
   "id": "a41a907c",
   "metadata": {},
   "source": [
    "I created a grayscale image that shows the 5 areas in the 21x21 grid of pixels.\n",
    "\n",
    "\n",
    "![](dot_distortion_areas.png)"
   ]
  },
  {
   "cell_type": "code",
   "execution_count": 2092,
   "id": "0f95386e",
   "metadata": {},
   "outputs": [
    {
     "data": {
      "text/plain": [
       "Array([136, 136, 136, 136, 136, 102, 102, 102,  68,  34,   0,  34,  68,\n",
       "       102, 102, 102, 136, 136, 136, 136, 136], dtype=uint8)"
      ]
     },
     "execution_count": 2092,
     "metadata": {},
     "output_type": "execute_result"
    }
   ],
   "source": [
    "import imageio\n",
    "im = imageio.imread('dot_distortion_areas.png')\n",
    "im[10] # middle line; contains pixel values for all 5 area types"
   ]
  },
  {
   "cell_type": "code",
   "execution_count": 2093,
   "id": "a11670cf",
   "metadata": {},
   "outputs": [],
   "source": [
    "pixel_brightness = sorted(set(im[10]))\n",
    "brightness_to_areas = dict()\n",
    "for i, num in enumerate(pixel_brightness):\n",
    "    brightness_to_areas.update({num: i+1})"
   ]
  },
  {
   "cell_type": "code",
   "execution_count": 2094,
   "id": "a1e2a632",
   "metadata": {},
   "outputs": [
    {
     "data": {
      "text/plain": [
       "5"
      ]
     },
     "execution_count": 2094,
     "metadata": {},
     "output_type": "execute_result"
    }
   ],
   "source": [
    "brightness_to_areas[136]"
   ]
  },
  {
   "cell_type": "code",
   "execution_count": 2095,
   "id": "839f4a67",
   "metadata": {},
   "outputs": [],
   "source": [
    "import numpy as np\n",
    "areas_array = np.zeros(im.shape)"
   ]
  },
  {
   "cell_type": "code",
   "execution_count": 2096,
   "id": "9df901e6",
   "metadata": {},
   "outputs": [],
   "source": [
    "for i in range(len(areas_array)):\n",
    "    for j in range(len(areas_array[i])):\n",
    "        areas_array[i][j] = brightness_to_areas[im[i][j]]"
   ]
  },
  {
   "cell_type": "code",
   "execution_count": 2097,
   "id": "97bf818f",
   "metadata": {},
   "outputs": [
    {
     "data": {
      "text/plain": [
       "array([5., 5., 5., 5., 5., 4., 4., 4., 3., 2., 1., 2., 3., 4., 4., 4., 5.,\n",
       "       5., 5., 5., 5.])"
      ]
     },
     "execution_count": 2097,
     "metadata": {},
     "output_type": "execute_result"
    }
   ],
   "source": [
    "areas_array[10]"
   ]
  },
  {
   "cell_type": "code",
   "execution_count": 2098,
   "id": "b84dda0f",
   "metadata": {},
   "outputs": [],
   "source": [
    "assert set(areas_array.flatten()) == {1, 2, 3, 4, 5} # ensure that all pixel values have been converted to areas indexes"
   ]
  },
  {
   "cell_type": "code",
   "execution_count": null,
   "id": "cf678707",
   "metadata": {},
   "outputs": [],
   "source": []
  }
 ],
 "metadata": {
  "kernelspec": {
   "display_name": "Python 3 (ipykernel)",
   "language": "python",
   "name": "python3"
  },
  "language_info": {
   "codemirror_mode": {
    "name": "ipython",
    "version": 3
   },
   "file_extension": ".py",
   "mimetype": "text/x-python",
   "name": "python",
   "nbconvert_exporter": "python",
   "pygments_lexer": "ipython3",
   "version": "3.8.5"
  }
 },
 "nbformat": 4,
 "nbformat_minor": 5
}
