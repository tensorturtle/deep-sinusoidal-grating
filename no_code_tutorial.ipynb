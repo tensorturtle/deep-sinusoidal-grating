{
 "cells": [
  {
   "cell_type": "markdown",
   "id": "b0d65561-82ac-4e6e-a34a-dc28381092c7",
   "metadata": {
    "tags": []
   },
   "source": [
    "# Interactive SG\n",
    "## A no-code tool to create your own sinusoidal grating dataset"
   ]
  },
  {
   "cell_type": "markdown",
   "id": "6a645e11-5de1-48aa-b9ba-f9ece240bc49",
   "metadata": {},
   "source": [
    "[Click to see advanced user (PyTorch-compatible) version](https://hydo.ai)"
   ]
  },
  {
   "cell_type": "code",
   "execution_count": 1,
   "id": "38fe626a-14b5-4dc6-80ed-ba5d19e8d552",
   "metadata": {
    "tags": []
   },
   "outputs": [],
   "source": [
    "!pip install ipyfilechooser ipywidgets scipy numpy matplotlib -qqq"
   ]
  },
  {
   "cell_type": "code",
   "execution_count": 2,
   "id": "4f68683b-3dca-4d4c-8c9c-a37e79cfeb05",
   "metadata": {
    "tags": []
   },
   "outputs": [],
   "source": [
    "from scipy import ndimage\n",
    "import numpy as np\n",
    "from PIL import Image, ImageDraw, ImageFilter\n",
    "import matplotlib.pyplot as plt\n",
    "from ipywidgets import interact, widgets\n",
    "from ipyfilechooser import FileChooser\n",
    "import pickle"
   ]
  },
  {
   "cell_type": "code",
   "execution_count": 3,
   "id": "27884c09-9e95-45e1-969f-ed5ff1e9366a",
   "metadata": {
    "tags": []
   },
   "outputs": [],
   "source": [
    "from SineGratesDataset import SineGrates, pil_to_tensor, circular_sinegrate, show_img"
   ]
  },
  {
   "cell_type": "markdown",
   "id": "6953f398-3607-4408-9b8d-f9bf8947261e",
   "metadata": {},
   "source": [
    "Sinusoid $ I(\\mathbf{x}) = A \\cos(\\mathbf{\\omega} \\mathbf{x} + \\rho) $\n",
    "\n",
    "where\n",
    "+ $ A $ is the amplitude\n",
    "+ $ \\rho $ is the phase\n",
    "+ $ \\mathbf{\\omega} $ is the frequency."
   ]
  },
  {
   "cell_type": "markdown",
   "id": "06e5f19d-595a-427c-9f63-c4f18e0a1c89",
   "metadata": {},
   "source": [
    "Here's an interactive demonstration of the parameters that can be adjusted to create different kinds of sinusoidal gratings. Try adjusting the sliders!"
   ]
  },
  {
   "cell_type": "code",
   "execution_count": 4,
   "id": "84a3de25-835c-410a-9c55-789be6706bdb",
   "metadata": {
    "jupyter": {
     "source_hidden": true
    },
    "tags": []
   },
   "outputs": [
    {
     "data": {
      "application/vnd.jupyter.widget-view+json": {
       "model_id": "e916f339bc574038b213965eb8e90856",
       "version_major": 2,
       "version_minor": 0
      },
      "text/plain": [
       "interactive(children=(FloatSlider(value=10.0, description='frequency', max=20.0, min=1.0), IntSlider(value=90,…"
      ]
     },
     "metadata": {},
     "output_type": "display_data"
    },
    {
     "data": {
      "text/plain": [
       "<function __main__.demo_sinusoidal_grating(frequency, rotation, phase_shift)>"
      ]
     },
     "execution_count": 4,
     "metadata": {},
     "output_type": "execute_result"
    }
   ],
   "source": [
    "def demo_sinusoidal_grating(frequency, rotation, phase_shift):\n",
    "    show_img(circular_sinegrate(frequency, rotation, phase_shift=phase_shift, image_size=(256,256)))\n",
    "interact(demo_sinusoidal_grating, frequency=(1, 20, 0.1), rotation=(0, 180, 1), phase_shift=(0, 2*np.pi, 0.1))"
   ]
  },
  {
   "cell_type": "markdown",
   "id": "6f7b852c-6335-44db-8fd4-2e008dfe0b73",
   "metadata": {},
   "source": [
    "# Defining the distribution parameters for a dataset of sinusoidal gratings"
   ]
  },
  {
   "cell_type": "code",
   "execution_count": 5,
   "id": "0a0eaa59-5a62-4848-933f-b92d0704d5a5",
   "metadata": {
    "jupyter": {
     "source_hidden": true
    },
    "tags": []
   },
   "outputs": [],
   "source": [
    "scheme_w = widgets.ToggleButtons(\n",
    "    options=['Rule-Based', 'Information-Integration'],\n",
    "    description='Scheme:',\n",
    "    disabled=False,\n",
    "    button_style='', # 'success', 'info', 'warning', 'danger' or ''\n",
    "    #tooltips=['Description of slow', 'Description of regular', 'Description of fast'],\n",
    "#     icons=['check'] * 3\n",
    ")"
   ]
  },
  {
   "cell_type": "code",
   "execution_count": 6,
   "id": "c0feabf8-0b20-49c7-8952-db53b86b035c",
   "metadata": {
    "jupyter": {
     "source_hidden": true
    },
    "tags": []
   },
   "outputs": [
    {
     "data": {
      "application/vnd.jupyter.widget-view+json": {
       "model_id": "6a54abd644024963aa51033063c173ea",
       "version_major": 2,
       "version_minor": 0
      },
      "text/plain": [
       "ToggleButtons(description='Scheme:', options=('Rule-Based', 'Information-Integration'), value='Rule-Based')"
      ]
     },
     "metadata": {},
     "output_type": "display_data"
    }
   ],
   "source": [
    "display(scheme_w)"
   ]
  },
  {
   "cell_type": "code",
   "execution_count": 7,
   "id": "436db5c6-4ca4-49e6-bf29-1e6fd5b06fbe",
   "metadata": {
    "jupyter": {
     "source_hidden": true
    },
    "tags": []
   },
   "outputs": [],
   "source": [
    "int_w = widgets.IntText(\n",
    "    value=100,\n",
    "    description='Dataset size:',\n",
    "    disabled=False\n",
    ")"
   ]
  },
  {
   "cell_type": "code",
   "execution_count": 8,
   "id": "760f3ef5-d25a-40cf-b7c1-11db25bac2f0",
   "metadata": {
    "jupyter": {
     "source_hidden": true
    },
    "tags": []
   },
   "outputs": [
    {
     "data": {
      "application/vnd.jupyter.widget-view+json": {
       "model_id": "8346841ca6b241f684b468d7e464fd98",
       "version_major": 2,
       "version_minor": 0
      },
      "text/plain": [
       "IntText(value=100, description='Dataset size:')"
      ]
     },
     "metadata": {},
     "output_type": "display_data"
    }
   ],
   "source": [
    "display(int_w)"
   ]
  },
  {
   "cell_type": "code",
   "execution_count": 9,
   "id": "9965cdd4-4a7f-419d-9ac5-97a44a7ece73",
   "metadata": {
    "jupyter": {
     "source_hidden": true
    },
    "tags": []
   },
   "outputs": [],
   "source": [
    "bool_w = widgets.Checkbox(\n",
    "    value=False,\n",
    "    description='Randomize phase',\n",
    "    disabled=False,\n",
    "    indent=False\n",
    ")"
   ]
  },
  {
   "cell_type": "code",
   "execution_count": 10,
   "id": "226b254c-59b5-40f6-9f02-36d0afc06128",
   "metadata": {
    "jupyter": {
     "source_hidden": true
    },
    "tags": []
   },
   "outputs": [
    {
     "data": {
      "application/vnd.jupyter.widget-view+json": {
       "model_id": "c1ff950ade0749c69ad762db58039d18",
       "version_major": 2,
       "version_minor": 0
      },
      "text/plain": [
       "Checkbox(value=False, description='Randomize phase', indent=False)"
      ]
     },
     "metadata": {},
     "output_type": "display_data"
    }
   ],
   "source": [
    "display(bool_w)"
   ]
  },
  {
   "cell_type": "code",
   "execution_count": 11,
   "id": "266d3089-79f8-4b4d-aebc-9ef79f7c369b",
   "metadata": {
    "jupyter": {
     "source_hidden": true
    },
    "tags": []
   },
   "outputs": [
    {
     "data": {
      "application/vnd.jupyter.widget-view+json": {
       "model_id": "96774c620a474cb2837a35e932117e44",
       "version_major": 2,
       "version_minor": 0
      },
      "text/plain": [
       "Button(description='See/modify distribution', style=ButtonStyle())"
      ]
     },
     "metadata": {},
     "output_type": "display_data"
    },
    {
     "data": {
      "application/vnd.jupyter.widget-view+json": {
       "model_id": "dcf39f797c58461ea1614dc7d09bd0a8",
       "version_major": 2,
       "version_minor": 0
      },
      "text/plain": [
       "Output()"
      ]
     },
     "metadata": {},
     "output_type": "display_data"
    }
   ],
   "source": [
    "from IPython.display import display\n",
    "button = widgets.Button(description=\"See/modify distribution\")\n",
    "output = widgets.Output()\n",
    "\n",
    "display(button, output)\n",
    "\n",
    "def on_button_clicked(b):\n",
    "    if scheme_w.value == 'Rule-Based':\n",
    "        cat_scheme = 'rb'\n",
    "    elif scheme_w.value == 'Information-Integration':\n",
    "        cat_scheme = 'ii'\n",
    "    dataset_length = int_w.value // 2 # we need to split into 2, because condition 'a' and 'b' datasets are generated separately\n",
    "    randomize_phase = bool_w.value\n",
    "    rb_params = {\n",
    "            'a_means':[[30,50],[50,70]],\n",
    "            'b_means':[[50,30],[70,50]],\n",
    "            'a_covariances':[[[10,0],[0,150]],[[150,0],[0,10]]],\n",
    "            'b_covariances':[[[10,0],[0,150]],[[150,0],[0,10]]]\n",
    "        }\n",
    "\n",
    "    ii_params = {\n",
    "        'a_means':[40,50],\n",
    "        'b_means':[60,50],\n",
    "        'a_covariances':[[10,0],[0,280]],\n",
    "        'b_covariances':[[10,0],[0,280]]\n",
    "    }\n",
    "    \n",
    "    \n",
    "    if cat_scheme == 'rb':\n",
    "        dist_params = rb_params\n",
    "    elif cat_scheme == 'ii':\n",
    "        dist_params = ii_params\n",
    "    dataset = SineGrates(cat_scheme=cat_scheme, dist_params=dist_params, length=dataset_length, transform=None, randomize_phase=randomize_phase)\n",
    "    def modify_dist_params_ii(**kwargs):\n",
    "        new_params = {\n",
    "            'a_means':[kwargs['a_means_x'], kwargs['a_means_y']],\n",
    "            'b_means':[kwargs['b_means_x'], kwargs['b_means_y']],\n",
    "            'a_covariances':[[kwargs['a_cov_x'],0],[0,kwargs['a_cov_y']]],\n",
    "            'b_covariances':[[kwargs['b_cov_x'],0],[0,kwargs['b_cov_y']]]\n",
    "        }\n",
    "        dataset.set_dist_params(new_params)\n",
    "        pickle.dump(dataset, open('temp_distribution.pkl', 'wb'))\n",
    "        plt.show(dataset.plot_final())\n",
    "    def modify_dist_params_rb(**kwargs):\n",
    "        new_params = {\n",
    "            'a_means':[[kwargs['a_means_1_x'], kwargs['a_means_1_y']],\n",
    "                       [kwargs['a_means_2_x'], kwargs['a_means_2_y']]],\n",
    "            'b_means':[[kwargs['b_means_1_x'], kwargs['b_means_1_y']],\n",
    "                       [kwargs['b_means_2_x'], kwargs['b_means_2_y']]],\n",
    "            'a_covariances':[[[kwargs['a_cov_1_x'],0],[0,kwargs['a_cov_1_y']]],\n",
    "                             [[kwargs['a_cov_2_x'],0],[0,kwargs['a_cov_2_y']]]],\n",
    "            'b_covariances':[[[kwargs['b_cov_1_x'],0],[0,kwargs['b_cov_1_y']]],\n",
    "                             [[kwargs['b_cov_2_x'],0],[0,kwargs['b_cov_2_y']]]],\n",
    "        }\n",
    "        dataset.set_dist_params(new_params)\n",
    "        pickle.dump(dataset, open('temp_distribution.pkl', 'wb'))\n",
    "        plt.show(dataset.plot_final())\n",
    "        \n",
    "    with output:\n",
    "        if cat_scheme == 'ii':\n",
    "            interact(modify_dist_params_ii, \n",
    "                     a_means_x = (0,80,1),\n",
    "                     a_means_y = (0,100,1),\n",
    "                     b_means_x = (0,120,1),\n",
    "                     b_means_y = (0,100,1),\n",
    "                     a_cov_x = (0,20,1),\n",
    "                     a_cov_y = (0,560, 1),\n",
    "                     b_cov_x = (0,20,1),\n",
    "                     b_cov_y = (0,560, 1),\n",
    "                    )\n",
    "        elif cat_scheme == 'rb':\n",
    "                interact(modify_dist_params_rb, \n",
    "                         a_means_1_x = (0,60,1),\n",
    "                         a_means_1_y = (0,100,1),\n",
    "                         a_means_2_x = (0,100,1),\n",
    "                         a_means_2_y = (0,140,1),\n",
    "                         b_means_1_x = (0,100,1),\n",
    "                         b_means_1_y = (0,60,1),\n",
    "                         b_means_2_x = (0,140,1),\n",
    "                         b_means_2_y = (0,100,1),\n",
    "                         a_cov_1_x = (0,20,1),\n",
    "                         a_cov_1_y = (0,300,1),\n",
    "                         a_cov_2_x = (0,300,1),\n",
    "                         a_cov_2_y = (0,20,1),\n",
    "                         b_cov_1_x = (0,20,1),\n",
    "                         b_cov_1_y = (0,300,1),\n",
    "                         b_cov_2_x = (0,300,1),\n",
    "                         b_cov_2_y = (0,20,1),\n",
    "                    )\n",
    "        print(\"\")\n",
    "\n",
    "button.on_click(on_button_clicked)\n",
    "\n"
   ]
  },
  {
   "cell_type": "markdown",
   "id": "981287b1-29f2-4c2f-9e94-d3f8b44d8021",
   "metadata": {},
   "source": [
    "Using this folder selector, choose where to save the images:"
   ]
  },
  {
   "cell_type": "code",
   "execution_count": 12,
   "id": "80cf54ad-de8a-4292-9abb-1f0e42fd5597",
   "metadata": {
    "tags": []
   },
   "outputs": [
    {
     "data": {
      "application/vnd.jupyter.widget-view+json": {
       "model_id": "4cfceedfa04b4c8da5c9ddaa7862fc23",
       "version_major": 2,
       "version_minor": 0
      },
      "text/plain": [
       "FileChooser(path='/home/jasonsohn/Repos/deep-sinusoidal-grating', filename='', title='', show_hidden=False, se…"
      ]
     },
     "metadata": {},
     "output_type": "display_data"
    }
   ],
   "source": [
    "fc = FileChooser('.')\n",
    "display(fc)"
   ]
  },
  {
   "cell_type": "markdown",
   "id": "e45ba637-d275-4437-adb1-be6bc4edfc76",
   "metadata": {},
   "source": [
    "Using the distribution above, we actually generate the sinusoidal grating images:"
   ]
  },
  {
   "cell_type": "code",
   "execution_count": 13,
   "id": "3119f0b1-9a44-4550-843e-282f90cb2603",
   "metadata": {
    "tags": []
   },
   "outputs": [
    {
     "data": {
      "application/vnd.jupyter.widget-view+json": {
       "model_id": "52735f5d3e024d66877eb8a703222003",
       "version_major": 2,
       "version_minor": 0
      },
      "text/plain": [
       "Button(description='Save dataset', style=ButtonStyle())"
      ]
     },
     "metadata": {},
     "output_type": "display_data"
    },
    {
     "data": {
      "application/vnd.jupyter.widget-view+json": {
       "model_id": "e89c63c81f5a4c9aa234db84fc1a0603",
       "version_major": 2,
       "version_minor": 0
      },
      "text/plain": [
       "Output()"
      ]
     },
     "metadata": {},
     "output_type": "display_data"
    }
   ],
   "source": [
    "#from IPython.display import display\n",
    "button_2 = widgets.Button(description=\"Save dataset\")\n",
    "output_2 = widgets.Output()\n",
    "\n",
    "display(button_2, output_2)\n",
    "\n",
    "def on_button_clicked_2(b):\n",
    "\n",
    "    with output_2:\n",
    "        print(\"Generating dataset...\")\n",
    "        dataset = pickle.load(open('temp_distribution.pkl', 'rb'))\n",
    "        dataset.save_dataset(fc.selected_path)\n",
    "        print(f\"{len(dataset)} examples have been created and saved to {fc.selected_path}.\")\n",
    "\n",
    "button_2.on_click(on_button_clicked_2)"
   ]
  }
 ],
 "metadata": {
  "kernelspec": {
   "display_name": "Python 3 (ipykernel)",
   "language": "python",
   "name": "python3"
  },
  "language_info": {
   "codemirror_mode": {
    "name": "ipython",
    "version": 3
   },
   "file_extension": ".py",
   "mimetype": "text/x-python",
   "name": "python",
   "nbconvert_exporter": "python",
   "pygments_lexer": "ipython3",
   "version": "3.8.10"
  }
 },
 "nbformat": 4,
 "nbformat_minor": 5
}
