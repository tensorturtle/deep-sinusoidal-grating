{
 "cells": [
  {
   "cell_type": "markdown",
   "id": "c48a3f08-122f-44d1-99b3-e17b850e5ee6",
   "metadata": {
    "tags": []
   },
   "source": [
    "<div align='center'>\n",
    "    <h1>Sinusoidal Gratings Generator</h1>\n",
    "    \n",
    "    <h4>by Jason Sohn (<a href=\"https://jasonsohn.com\">website</a>)</h4>\n",
    "</div>"
   ]
  },
  {
   "cell_type": "markdown",
   "id": "00f9b2d3-2e70-4404-b236-1388d809150f",
   "metadata": {
    "tags": []
   },
   "source": [
    "## Intro"
   ]
  },
  {
   "cell_type": "markdown",
   "id": "b0d65561-82ac-4e6e-a34a-dc28381092c7",
   "metadata": {
    "tags": []
   },
   "source": [
    "This tool generates custom sinusoidal gratings for cognitive science research. No coding needed.\n",
    "\n",
    "This demonstration closely follows the paper: *\"Can categorical knowledge be used in visual search\"* by S. Helie et al.\n",
    "\n",
    "In effect, I have rewritten a small part of the [Psychophysics Toolbox by Brainard](http://cda.psych.uiuc.edu/matlab_class/Psychtoolbox%20-%20Introduction.htm), a MATLAB program released in 1998, in modern Python. I added interactivity and made it easier to use sinusoidal gratings with [PyTorch](https://github.com/pytorch/pytorch), the predominant deep learning research framework today.\n",
    "\n",
    "For advanced users, I recommend trying out this demonstration first, then heading over to the [PyTorch-specific tutorial](https://hydo.ai). Also, feel free to browse the code [on GitHub](https://github.com/tensorturtle/deep-sinusoidal-grating)"
   ]
  },
  {
   "cell_type": "code",
   "execution_count": 1,
   "id": "e93c363c-12a1-410f-b9c7-89d5a5ba59c5",
   "metadata": {},
   "outputs": [],
   "source": [
    "# Limit some inputs if running on a tiny, weak computer\n",
    "TINY_SERVER = True"
   ]
  },
  {
   "cell_type": "code",
   "execution_count": 2,
   "id": "6f4f8949-5e12-4443-88e3-5b5cfe0931bf",
   "metadata": {},
   "outputs": [],
   "source": [
    "import glob\n",
    "import os\n",
    "import pickle\n",
    "import shutil\n",
    "from pathlib import Path\n",
    "import base64\n",
    "import requests"
   ]
  },
  {
   "cell_type": "code",
   "execution_count": 3,
   "id": "4f68683b-3dca-4d4c-8c9c-a37e79cfeb05",
   "metadata": {
    "tags": []
   },
   "outputs": [],
   "source": [
    "from scipy import ndimage\n",
    "import numpy as np\n",
    "from PIL import Image, ImageDraw, ImageFilter\n",
    "import matplotlib.pyplot as plt\n",
    "import ipywidgets\n",
    "from ipywidgets import interact, widgets\n",
    "from ipyfilechooser import FileChooser\n",
    "from IPython.display import HTML"
   ]
  },
  {
   "cell_type": "code",
   "execution_count": 4,
   "id": "27884c09-9e95-45e1-969f-ed5ff1e9366a",
   "metadata": {
    "tags": []
   },
   "outputs": [],
   "source": [
    "from SineGratesDataset import SineGrates, pil_to_tensor, circular_sinegrate, show_img"
   ]
  },
  {
   "cell_type": "code",
   "execution_count": 13,
   "id": "227de094-9816-4813-b43a-801cad5b0691",
   "metadata": {},
   "outputs": [],
   "source": [
    "# use proquint API to assign unique ids to each session\n",
    "URL = 'http://unique.tensorturtle.com'\n",
    "response = requests.get(URL)\n",
    "session_proquint = response.text"
   ]
  },
  {
   "cell_type": "markdown",
   "id": "4b4ae2c7-fa30-4117-888e-cabcda01da08",
   "metadata": {},
   "source": [
    "## What is a sinusoidal grating?"
   ]
  },
  {
   "cell_type": "markdown",
   "id": "6953f398-3607-4408-9b8d-f9bf8947261e",
   "metadata": {},
   "source": [
    "The pixel luminance values in a sinusoidal grating image is defined according to \n",
    "\n",
    "$$ I(\\mathbf{x}) = A \\sin(\\mathbf{\\omega} \\mathbf{x} + \\rho) $$\n",
    "\n",
    "where\n",
    "+ $ A $ is the amplitude. For our use, it is fixed at 1.\n",
    "+ $ \\rho $ is the phase. This generator enables you to choose between 0, or a randommized value.\n",
    "+ $ \\mathbf{\\omega} $ is the frequency, in units of 'cycles per degree (of human vision)'; one image is assumed to occupy 5 degrees of the visual field.\n",
    "\n",
    "Sinusoidal gratings of various frequencies and orientations are used by S. Helie, et al. in *\"Can categorical knowledge be used in visual search\"* to explore the \"effect of display size on perceptual categorization as a function of category structure\"."
   ]
  },
  {
   "cell_type": "markdown",
   "id": "5a1a5c59-e78f-4d70-9000-9692a25bf736",
   "metadata": {},
   "source": [
    "## The three parameters that define our sinusoidal gratings"
   ]
  },
  {
   "cell_type": "markdown",
   "id": "06e5f19d-595a-427c-9f63-c4f18e0a1c89",
   "metadata": {},
   "source": [
    "Play with the sliders!\n",
    "\n",
    "*sidenote: Phase shift is not a parameter in the original paper, but was added during experiments with artificial neural networks. ([read more about it here](https://jasonsohn.com))*"
   ]
  },
  {
   "cell_type": "markdown",
   "id": "0c32a8a1-b517-4be6-b0bf-914095c076de",
   "metadata": {},
   "source": [
    "If you do not see three sliders below, please wait or reload this page."
   ]
  },
  {
   "cell_type": "code",
   "execution_count": 5,
   "id": "84a3de25-835c-410a-9c55-789be6706bdb",
   "metadata": {
    "tags": []
   },
   "outputs": [
    {
     "data": {
      "application/vnd.jupyter.widget-view+json": {
       "model_id": "16acefe7c9c449c98bf5151e94f3e40d",
       "version_major": 2,
       "version_minor": 0
      },
      "text/plain": [
       "interactive(children=(FloatSlider(value=10.0, description='frequency', max=20.0, min=1.0), IntSlider(value=90,…"
      ]
     },
     "metadata": {},
     "output_type": "display_data"
    },
    {
     "data": {
      "text/plain": [
       "<function __main__.demo_sinusoidal_grating(frequency, rotation, phase_shift)>"
      ]
     },
     "execution_count": 5,
     "metadata": {},
     "output_type": "execute_result"
    }
   ],
   "source": [
    "def demo_sinusoidal_grating(frequency, rotation, phase_shift):\n",
    "    show_img(circular_sinegrate(frequency, rotation, phase_shift=phase_shift, image_size=(256,256)))\n",
    "interact(demo_sinusoidal_grating, frequency=(1, 20, 0.1), rotation=(0, 180, 1), phase_shift=(0, 2*np.pi, 0.1))"
   ]
  },
  {
   "cell_type": "markdown",
   "id": "6f7b852c-6335-44db-8fd4-2e008dfe0b73",
   "metadata": {},
   "source": [
    "## Define a distribution from which to sample the parameters"
   ]
  },
  {
   "cell_type": "code",
   "execution_count": 6,
   "id": "0a0eaa59-5a62-4848-933f-b92d0704d5a5",
   "metadata": {
    "tags": []
   },
   "outputs": [],
   "source": [
    "scheme_w = widgets.ToggleButtons(\n",
    "    options=['Rule-Based', 'Information-Integration'],\n",
    "    description='Scheme:',\n",
    "    disabled=False,\n",
    "    button_style='', # 'success', 'info', 'warning', 'danger' or ''\n",
    "    #tooltips=['Description of slow', 'Description of regular', 'Description of fast'],\n",
    "#     icons=['check'] * 3\n",
    ")"
   ]
  },
  {
   "cell_type": "code",
   "execution_count": 7,
   "id": "c0feabf8-0b20-49c7-8952-db53b86b035c",
   "metadata": {
    "tags": []
   },
   "outputs": [
    {
     "data": {
      "application/vnd.jupyter.widget-view+json": {
       "model_id": "c12014959e944df9b05d2aac623899d4",
       "version_major": 2,
       "version_minor": 0
      },
      "text/plain": [
       "ToggleButtons(description='Scheme:', options=('Rule-Based', 'Information-Integration'), value='Rule-Based')"
      ]
     },
     "metadata": {},
     "output_type": "display_data"
    }
   ],
   "source": [
    "display(scheme_w)"
   ]
  },
  {
   "cell_type": "code",
   "execution_count": 8,
   "id": "436db5c6-4ca4-49e6-bf29-1e6fd5b06fbe",
   "metadata": {
    "tags": []
   },
   "outputs": [],
   "source": [
    "int_w = widgets.IntText(\n",
    "    value=200,\n",
    "    description='Dataset size:',\n",
    "    disabled=False\n",
    ")"
   ]
  },
  {
   "cell_type": "code",
   "execution_count": 9,
   "id": "760f3ef5-d25a-40cf-b7c1-11db25bac2f0",
   "metadata": {
    "tags": []
   },
   "outputs": [
    {
     "data": {
      "application/vnd.jupyter.widget-view+json": {
       "model_id": "3aca7bd41f974e5895956386a53fec92",
       "version_major": 2,
       "version_minor": 0
      },
      "text/plain": [
       "IntText(value=200, description='Dataset size:')"
      ]
     },
     "metadata": {},
     "output_type": "display_data"
    }
   ],
   "source": [
    "display(int_w)"
   ]
  },
  {
   "cell_type": "code",
   "execution_count": 10,
   "id": "9965cdd4-4a7f-419d-9ac5-97a44a7ece73",
   "metadata": {
    "tags": []
   },
   "outputs": [],
   "source": [
    "bool_w = widgets.Checkbox(\n",
    "    value=False,\n",
    "    description='Randomize phase',\n",
    "    disabled=False,\n",
    "    indent=False\n",
    ")"
   ]
  },
  {
   "cell_type": "code",
   "execution_count": 11,
   "id": "226b254c-59b5-40f6-9f02-36d0afc06128",
   "metadata": {
    "tags": []
   },
   "outputs": [
    {
     "data": {
      "application/vnd.jupyter.widget-view+json": {
       "model_id": "da1599f8a18846369c5340270b1d1fe5",
       "version_major": 2,
       "version_minor": 0
      },
      "text/plain": [
       "Checkbox(value=False, description='Randomize phase', indent=False)"
      ]
     },
     "metadata": {},
     "output_type": "display_data"
    }
   ],
   "source": [
    "display(bool_w)"
   ]
  },
  {
   "cell_type": "code",
   "execution_count": 21,
   "id": "62b857eb-1d42-4f20-af0b-48a232777d60",
   "metadata": {},
   "outputs": [],
   "source": [
    "Path('temp').mkdir(parents=True, exist_ok=True)"
   ]
  },
  {
   "cell_type": "code",
   "execution_count": 12,
   "id": "266d3089-79f8-4b4d-aebc-9ef79f7c369b",
   "metadata": {
    "tags": []
   },
   "outputs": [
    {
     "data": {
      "application/vnd.jupyter.widget-view+json": {
       "model_id": "2e26c3622e524a8c9354a1947179d2fa",
       "version_major": 2,
       "version_minor": 0
      },
      "text/plain": [
       "Button(description='See/modify distribution', style=ButtonStyle())"
      ]
     },
     "metadata": {},
     "output_type": "display_data"
    },
    {
     "data": {
      "application/vnd.jupyter.widget-view+json": {
       "model_id": "d0ce554955684ef8bad555f48813f90b",
       "version_major": 2,
       "version_minor": 0
      },
      "text/plain": [
       "Output()"
      ]
     },
     "metadata": {},
     "output_type": "display_data"
    }
   ],
   "source": [
    "from IPython.display import display\n",
    "button = widgets.Button(description=\"See/modify distribution\")\n",
    "output = widgets.Output()\n",
    "\n",
    "display(button, output)\n",
    "\n",
    "def on_button_clicked(b):\n",
    "    \n",
    "        \n",
    "    with output:\n",
    "        if int_w.value > 4000 and TINY_SERVER:\n",
    "            print(\"Oof, you're asking too much from this little server. To create datasets greater than 4000 images, please download this jupyter notebook and run it locally.\")\n",
    "        else:\n",
    "            if scheme_w.value == 'Rule-Based':\n",
    "                    cat_scheme = 'rb'\n",
    "            elif scheme_w.value == 'Information-Integration':\n",
    "                cat_scheme = 'ii'\n",
    "            dataset_length = int_w.value // 2 # we need to split into 2, because condition 'a' and 'b' datasets are generated separately\n",
    "            randomize_phase = bool_w.value\n",
    "            rb_params = {\n",
    "                    'a_means':[[30,50],[50,70]],\n",
    "                    'b_means':[[50,30],[70,50]],\n",
    "                    'a_covariances':[[[10,0],[0,150]],[[150,0],[0,10]]],\n",
    "                    'b_covariances':[[[10,0],[0,150]],[[150,0],[0,10]]]\n",
    "                }\n",
    "\n",
    "            ii_params = {\n",
    "                'a_means':[40,50],\n",
    "                'b_means':[60,50],\n",
    "                'a_covariances':[[10,0],[0,280]],\n",
    "                'b_covariances':[[10,0],[0,280]]\n",
    "            }\n",
    "\n",
    "\n",
    "            if cat_scheme == 'rb':\n",
    "                dist_params = rb_params\n",
    "            elif cat_scheme == 'ii':\n",
    "                dist_params = ii_params\n",
    "            dataset = SineGrates(cat_scheme=cat_scheme, dist_params=dist_params, length=dataset_length, transform=None, randomize_phase=randomize_phase)\n",
    "            def modify_dist_params_ii(**kwargs):\n",
    "                new_params = {\n",
    "                    'a_means':[kwargs['a_means_x'], kwargs['a_means_y']],\n",
    "                    'b_means':[kwargs['b_means_x'], kwargs['b_means_y']],\n",
    "                    'a_covariances':[[kwargs['a_cov_x'],0],[0,kwargs['a_cov_y']]],\n",
    "                    'b_covariances':[[kwargs['b_cov_x'],0],[0,kwargs['b_cov_y']]]\n",
    "                }\n",
    "                dataset.set_dist_params(new_params)\n",
    "                pickle.dump(dataset, open(f'temp/distribution_{session_proquint}.pkl', 'wb'))\n",
    "                plt.show(dataset.plot_final())\n",
    "            def modify_dist_params_rb(**kwargs):\n",
    "                new_params = {\n",
    "                    'a_means':[[kwargs['a_means_1_x'], kwargs['a_means_1_y']],\n",
    "                               [kwargs['a_means_2_x'], kwargs['a_means_2_y']]],\n",
    "                    'b_means':[[kwargs['b_means_1_x'], kwargs['b_means_1_y']],\n",
    "                               [kwargs['b_means_2_x'], kwargs['b_means_2_y']]],\n",
    "                    'a_covariances':[[[kwargs['a_cov_1_x'],0],[0,kwargs['a_cov_1_y']]],\n",
    "                                     [[kwargs['a_cov_2_x'],0],[0,kwargs['a_cov_2_y']]]],\n",
    "                    'b_covariances':[[[kwargs['b_cov_1_x'],0],[0,kwargs['b_cov_1_y']]],\n",
    "                                     [[kwargs['b_cov_2_x'],0],[0,kwargs['b_cov_2_y']]]],\n",
    "                }\n",
    "                dataset.set_dist_params(new_params)\n",
    "                pickle.dump(dataset, open(f'temp/distribution_{session_proquint}.pkl', 'wb'))\n",
    "                plt.show(dataset.plot_final())\n",
    "            if cat_scheme == 'ii':\n",
    "                interact(modify_dist_params_ii, \n",
    "                         a_means_x = (0,80,1),\n",
    "                         a_means_y = (0,100,1),\n",
    "                         b_means_x = (0,120,1),\n",
    "                         b_means_y = (0,100,1),\n",
    "                         a_cov_x = (0,20,1),\n",
    "                         a_cov_y = (0,560, 1),\n",
    "                         b_cov_x = (0,20,1),\n",
    "                         b_cov_y = (0,560, 1),\n",
    "                        )\n",
    "            elif cat_scheme == 'rb':\n",
    "                    interact(modify_dist_params_rb, \n",
    "                             a_means_1_x = (0,60,1),\n",
    "                             a_means_1_y = (0,100,1),\n",
    "                             a_means_2_x = (0,100,1),\n",
    "                             a_means_2_y = (0,140,1),\n",
    "                             b_means_1_x = (0,100,1),\n",
    "                             b_means_1_y = (0,60,1),\n",
    "                             b_means_2_x = (0,140,1),\n",
    "                             b_means_2_y = (0,100,1),\n",
    "                             a_cov_1_x = (0,20,1),\n",
    "                             a_cov_1_y = (0,300,1),\n",
    "                             a_cov_2_x = (0,300,1),\n",
    "                             a_cov_2_y = (0,20,1),\n",
    "                             b_cov_1_x = (0,20,1),\n",
    "                             b_cov_1_y = (0,300,1),\n",
    "                             b_cov_2_x = (0,300,1),\n",
    "                             b_cov_2_y = (0,20,1),\n",
    "                        )\n",
    "            print(\"\")\n",
    "\n",
    "button.on_click(on_button_clicked)\n",
    "\n"
   ]
  },
  {
   "cell_type": "markdown",
   "id": "e45ba637-d275-4437-adb1-be6bc4edfc76",
   "metadata": {},
   "source": [
    "Next, generate the actual images:"
   ]
  },
  {
   "cell_type": "code",
   "execution_count": 14,
   "id": "004d2e0c-9234-4df6-b622-d68b0dacad0a",
   "metadata": {},
   "outputs": [],
   "source": [
    "def clean_dir(path, keep_last=10):\n",
    "    files = glob.glob(str(Path(path))+'/*')\n",
    "    asc = sorted(files, key=lambda t: os.stat(t).st_mtime)\n",
    "    for i in range(len(asc)-keep_last):\n",
    "        shutil.rmtree(asc[i])"
   ]
  },
  {
   "cell_type": "code",
   "execution_count": 15,
   "id": "52efa1c6-dcf9-4ff8-8972-2c109335a02a",
   "metadata": {},
   "outputs": [],
   "source": [
    "def zip_session_dataset(in_dir, out_dir, session_proquint):\n",
    "    to_zip = Path(in_dir)/session_proquint\n",
    "    out_dir = Path(out_dir)\n",
    "    out_dir.mkdir(parents=True, exist_ok=True)\n",
    "    out_path = out_dir/session_proquint\n",
    "    shutil.make_archive(out_path, 'zip', to_zip)"
   ]
  },
  {
   "cell_type": "code",
   "execution_count": 16,
   "id": "3119f0b1-9a44-4550-843e-282f90cb2603",
   "metadata": {
    "tags": []
   },
   "outputs": [
    {
     "data": {
      "application/vnd.jupyter.widget-view+json": {
       "model_id": "f424cb8792814976ac8282bc93290f85",
       "version_major": 2,
       "version_minor": 0
      },
      "text/plain": [
       "Button(description='Generate dataset', style=ButtonStyle())"
      ]
     },
     "metadata": {},
     "output_type": "display_data"
    },
    {
     "data": {
      "application/vnd.jupyter.widget-view+json": {
       "model_id": "cfbfafb13b814f7a8d654e6031d9dc4c",
       "version_major": 2,
       "version_minor": 0
      },
      "text/plain": [
       "Output()"
      ]
     },
     "metadata": {},
     "output_type": "display_data"
    }
   ],
   "source": [
    "button_2 = widgets.Button(description=\"Generate dataset\")\n",
    "output_2 = widgets.Output()\n",
    "\n",
    "display(button_2, output_2)\n",
    "\n",
    "def on_button_clicked_2(b):\n",
    "\n",
    "    with output_2:\n",
    "        print(\"Generating dataset...\")\n",
    "        dataset = pickle.load(open(f'temp/distribution_{session_proquint}.pkl', 'rb'))\n",
    "        dataset.save_dataset(Path('output')/session_proquint)\n",
    "        print(f\"{len(dataset)} examples have been created. Download them now.\")\n",
    "        zip_session_dataset('output','zipped',session_proquint)\n",
    "        \n",
    "        # also delete old outputs \n",
    "        clean_dir('output', keep_last=50)\n",
    "        clean_dir('zipped', keep_last=50)\n",
    "        clean_dir('temp', keep_last=50)\n",
    "        \n",
    "        filename = f\"zipped/{session_proquint}.zip\"\n",
    "        title = \"Click here to download your dataset\"\n",
    "        edit_download_html(htmlWidget, filename, title = title, session_proquint=session_proquint)\n",
    "\n",
    "button_2.on_click(on_button_clicked_2)"
   ]
  },
  {
   "cell_type": "code",
   "execution_count": 17,
   "id": "745e5c68-2f99-4a8c-abfc-bfe306d05c14",
   "metadata": {},
   "outputs": [
    {
     "data": {
      "application/vnd.jupyter.widget-view+json": {
       "model_id": "9f57da4fa77f42d38011266b8d47e5b9",
       "version_major": 2,
       "version_minor": 0
      },
      "text/plain": [
       "HTML(value='')"
      ]
     },
     "metadata": {},
     "output_type": "display_data"
    }
   ],
   "source": [
    "def edit_download_html(htmlWidget, filename, title = \"Click here to download:\", session_proquint=''):\n",
    "    \n",
    "    # Change widget html temperarily to a font-awesome spinner\n",
    "    htmlWidget.value = \"<i class=\\\"fa fa-spinner fa-spin fa-2x fa-fw\\\"></i><span class=\\\"sr-only\\\">Loading...</span>\"\n",
    "    \n",
    "    # Process raw data\n",
    "    data = open(filename, \"rb\").read()\n",
    "    b64 = base64.b64encode(data)\n",
    "    payload = b64.decode()\n",
    "    \n",
    "    # Create and assign html to widget\n",
    "    html = '<a download=\"{filename}\" href=\"data:application/zip;base64,{payload}\" target=\"_blank\">{title}</a>'\n",
    "    #htmlWidget.value = html.format(payload = payload, title = title+filename, filename = filename)\n",
    "    htmlWidget.value = html.format(payload = payload, title = title, filename=f\"sinusoidal-grating-{session_proquint}\") # don't show filename\n",
    "\n",
    "htmlWidget = ipywidgets.HTML(value = '')\n",
    "htmlWidget"
   ]
  },
  {
   "cell_type": "code",
   "execution_count": null,
   "id": "12c6040e-a987-4fe0-a8c7-fa3d20b475a8",
   "metadata": {},
   "outputs": [],
   "source": [
    "print(\"Reload site to start again.\")"
   ]
  },
  {
   "cell_type": "code",
   "execution_count": 19,
   "id": "636e1996-f5d4-482c-ae09-109c839237c8",
   "metadata": {},
   "outputs": [
    {
     "name": "stdout",
     "output_type": "stream",
     "text": [
      "\n",
      "\n",
      "\n",
      "\n",
      "\n",
      "\n",
      "\n",
      "\n",
      "\n",
      "\n",
      "\n",
      "\n",
      "\n",
      "\n",
      "\n",
      "\n",
      "\n",
      "\n",
      "\n",
      "\n",
      "\n",
      "\n",
      "\n",
      "\n",
      "\n",
      "\n",
      "\n",
      "\n",
      "\n",
      "\n",
      "\n"
     ]
    }
   ],
   "source": [
    "print('\\n'*30)"
   ]
  },
  {
   "cell_type": "code",
   "execution_count": null,
   "id": "60140395-2d08-45e6-a3a3-bd9054150c8a",
   "metadata": {},
   "outputs": [],
   "source": []
  },
  {
   "cell_type": "markdown",
   "id": "355f137e-5d7e-444d-9b92-c101275f27d8",
   "metadata": {},
   "source": [
    "Copyright © 2022 Jason Sohn\n",
    "\n",
    "Released under the MIT license."
   ]
  },
  {
   "cell_type": "code",
   "execution_count": null,
   "id": "7173b724-f00f-467f-9a20-2d2dbe870115",
   "metadata": {},
   "outputs": [],
   "source": []
  }
 ],
 "metadata": {
  "kernelspec": {
   "display_name": "Python 3 (ipykernel)",
   "language": "python",
   "name": "python3"
  },
  "language_info": {
   "codemirror_mode": {
    "name": "ipython",
    "version": 3
   },
   "file_extension": ".py",
   "mimetype": "text/x-python",
   "name": "python",
   "nbconvert_exporter": "python",
   "pygments_lexer": "ipython3",
   "version": "3.8.10"
  }
 },
 "nbformat": 4,
 "nbformat_minor": 5
}
