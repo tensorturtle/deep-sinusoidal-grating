{
 "cells": [
  {
   "cell_type": "markdown",
   "id": "c85d6986-aad4-4a9e-a730-7544a9aa3aa0",
   "metadata": {},
   "source": [
    "# Tutorial: Using Sinusoidal Dataset in PyTorch"
   ]
  },
  {
   "cell_type": "code",
   "execution_count": 1,
   "id": "e958a045-54e0-43f4-9bef-98a0d82350f8",
   "metadata": {},
   "outputs": [],
   "source": [
    "import torch\n",
    "import torch.nn as nn\n",
    "import torch.optim as optim\n",
    "import torch.nn.functional as F\n",
    "\n",
    "import torchvision\n",
    "import torchvision.transforms as transforms\n",
    "\n",
    "import matplotlib.pyplot as plt\n",
    "import numpy as np\n",
    "\n",
    "from ipywidgets import interact"
   ]
  },
  {
   "cell_type": "code",
   "execution_count": 2,
   "id": "3c98fd55-c2cd-44c9-bb18-1de28f8d70cb",
   "metadata": {},
   "outputs": [],
   "source": [
    "# manual seed for reproducibility\n",
    "torch.manual_seed(85513)\n",
    "np.random.seed(9991)"
   ]
  },
  {
   "cell_type": "code",
   "execution_count": 3,
   "id": "238bf836-3b12-4a7c-b3bb-77682edfba7d",
   "metadata": {},
   "outputs": [],
   "source": [
    "from SineGratesDataset import pil_to_tensor, SineGrates\n",
    "transform = pil_to_tensor"
   ]
  },
  {
   "cell_type": "code",
   "execution_count": 4,
   "id": "69dcf234-4a3f-4340-8324-8b5c2abd0af1",
   "metadata": {},
   "outputs": [],
   "source": [
    "cat_scheme = 'ii' # choose 'ii'(information-integration), 'rb'(rule-based)"
   ]
  },
  {
   "cell_type": "markdown",
   "id": "efe104d5-a3fe-4a5e-9e62-629c4e2d448f",
   "metadata": {},
   "source": [
    "Default parameters (per paper)"
   ]
  },
  {
   "cell_type": "code",
   "execution_count": 5,
   "id": "bdd8a0e1-3f36-4e3e-b607-505a6bafc430",
   "metadata": {},
   "outputs": [],
   "source": [
    "rb_params = {\n",
    "    'a_means':[[30,50],[50,70]],\n",
    "    'b_means':[[50,30],[70,50]],\n",
    "    'a_covariances':[[[10,0],[0,150]],[[150,0],[0,10]]],\n",
    "    'b_covariances':[[[10,0],[0,150]],[[150,0],[0,10]]]\n",
    "}\n",
    "\n",
    "ii_params = {\n",
    "    'a_means':[40,50],\n",
    "    'b_means':[60,50],\n",
    "    'a_covariances':[[10,0],[0,280]],\n",
    "    'b_covariances':[[10,0],[0,280]]\n",
    "}\n",
    "\n",
    "if cat_scheme == 'rb':\n",
    "    dist_params = rb_params\n",
    "elif cat_scheme == 'ii':\n",
    "    dist_params = ii_params"
   ]
  },
  {
   "cell_type": "markdown",
   "id": "acb75923-621f-4d97-aa4e-5624939036cc",
   "metadata": {},
   "source": [
    "A train and test dataset are created from the same kind of distribution"
   ]
  },
  {
   "cell_type": "code",
   "execution_count": 6,
   "id": "abd2dc02-81bc-48f8-9692-10ed6ca25983",
   "metadata": {},
   "outputs": [],
   "source": [
    "trainset = SineGrates(cat_scheme=cat_scheme, dist_params=dist_params, length=1000, transform=transform, randomize_phase=True)\n",
    "testset = SineGrates(cat_scheme=cat_scheme, dist_params=dist_params, length=100, transform=transform, randomize_phase=True)"
   ]
  },
  {
   "cell_type": "code",
   "execution_count": 7,
   "id": "fa56a73b-a74c-431f-ac0b-568fa97dbf83",
   "metadata": {},
   "outputs": [],
   "source": [
    "def modify_dist_params_ii(**kwargs):\n",
    "    new_params = {\n",
    "        'a_means':[kwargs['a_means_x'], kwargs['a_means_y']],\n",
    "        'b_means':[kwargs['b_means_x'], kwargs['b_means_y']],\n",
    "        'a_covariances':[[kwargs['a_cov_x'],0],[0,kwargs['a_cov_y']]],\n",
    "        'b_covariances':[[kwargs['b_cov_x'],0],[0,kwargs['b_cov_y']]]\n",
    "    }\n",
    "    trainset.set_dist_params(new_params)\n",
    "    testset.set_dist_params(new_params)\n",
    "    plt.show(trainset.plot_final())\n",
    "    plt.show(testset.plot_final())"
   ]
  },
  {
   "cell_type": "code",
   "execution_count": 8,
   "id": "647299be-5046-4f98-a19d-85a158943658",
   "metadata": {},
   "outputs": [],
   "source": [
    "def modify_dist_params_rb(**kwargs):\n",
    "    new_params = {\n",
    "        'a_means':[[kwargs['a_means_1_x'], kwargs['a_means_1_y']],\n",
    "                   [kwargs['a_means_2_x'], kwargs['a_means_2_y']]],\n",
    "        'b_means':[[kwargs['b_means_1_x'], kwargs['b_means_1_y']],\n",
    "                   [kwargs['b_means_2_x'], kwargs['b_means_2_y']]],\n",
    "        'a_covariances':[[[kwargs['a_cov_1_x'],0],[0,kwargs['a_cov_1_y']]],\n",
    "                         [[kwargs['a_cov_2_x'],0],[0,kwargs['a_cov_2_y']]]],\n",
    "        'b_covariances':[[[kwargs['b_cov_1_x'],0],[0,kwargs['b_cov_1_y']]],\n",
    "                         [[kwargs['b_cov_2_x'],0],[0,kwargs['b_cov_2_y']]]],\n",
    "    }\n",
    "    trainset.set_dist_params(new_params)\n",
    "    testset.set_dist_params(new_params)\n",
    "    plt.show(trainset.plot_final())\n",
    "    plt.show(testset.plot_final())"
   ]
  },
  {
   "cell_type": "code",
   "execution_count": 9,
   "id": "a572bd8d-fa1f-4625-b652-719b35775cff",
   "metadata": {},
   "outputs": [
    {
     "data": {
      "application/vnd.jupyter.widget-view+json": {
       "model_id": "f48998d342044e99acee2ed9c444cfca",
       "version_major": 2,
       "version_minor": 0
      },
      "text/plain": [
       "interactive(children=(IntSlider(value=40, description='a_means_x', max=80), IntSlider(value=50, description='a…"
      ]
     },
     "metadata": {},
     "output_type": "display_data"
    }
   ],
   "source": [
    "if cat_scheme == 'ii':\n",
    "    interact(modify_dist_params_ii, \n",
    "             a_means_x = (0,80,1),\n",
    "             a_means_y = (0,100,1),\n",
    "             b_means_x = (0,120,1),\n",
    "             b_means_y = (0,100,1),\n",
    "             a_cov_x = (0,20,1),\n",
    "             a_cov_y = (0,560, 1),\n",
    "             b_cov_x = (0,20,1),\n",
    "             b_cov_y = (0,560, 1),\n",
    "            )\n",
    "elif cat_scheme == 'rb':\n",
    "        interact(modify_dist_params_rb, \n",
    "                 a_means_1_x = (0,60,1),\n",
    "                 a_means_1_y = (0,100,1),\n",
    "                 a_means_2_x = (0,100,1),\n",
    "                 a_means_2_y = (0,140,1),\n",
    "                 b_means_1_x = (0,100,1),\n",
    "                 b_means_1_y = (0,60,1),\n",
    "                 b_means_2_x = (0,140,1),\n",
    "                 b_means_2_y = (0,100,1),\n",
    "                 a_cov_1_x = (0,20,1),\n",
    "                 a_cov_1_y = (0,300,1),\n",
    "                 a_cov_2_x = (0,300,1),\n",
    "                 a_cov_2_y = (0,20,1),\n",
    "                 b_cov_1_x = (0,20,1),\n",
    "                 b_cov_1_y = (0,300,1),\n",
    "                 b_cov_2_x = (0,300,1),\n",
    "                 b_cov_2_y = (0,20,1),\n",
    "            )"
   ]
  },
  {
   "cell_type": "markdown",
   "id": "6a7774cc-6f1a-49c9-8e0a-f5101f790104",
   "metadata": {},
   "source": [
    "## Generate the actual images from the above distribution"
   ]
  },
  {
   "cell_type": "code",
   "execution_count": 10,
   "id": "0517b4bf-49a5-4b4f-a6c7-3e23adcf1405",
   "metadata": {},
   "outputs": [],
   "source": [
    "trainset.generate_dataset()\n",
    "testset.generate_dataset()"
   ]
  },
  {
   "cell_type": "markdown",
   "id": "d271417b-9018-4804-a9dc-35bd3136cc38",
   "metadata": {},
   "source": [
    "As a sanity check, let's grab an example image"
   ]
  },
  {
   "cell_type": "code",
   "execution_count": 11,
   "id": "2666969b-4398-4c7c-87ca-62d3cda5a3d5",
   "metadata": {},
   "outputs": [],
   "source": [
    "label, image = next(iter(trainset))"
   ]
  },
  {
   "cell_type": "code",
   "execution_count": 12,
   "id": "6b1e7922-730b-4472-ac32-b0d9dafa6ce4",
   "metadata": {},
   "outputs": [
    {
     "data": {
      "text/plain": [
       "torch.Tensor"
      ]
     },
     "execution_count": 12,
     "metadata": {},
     "output_type": "execute_result"
    }
   ],
   "source": [
    "type(image)"
   ]
  },
  {
   "cell_type": "code",
   "execution_count": 13,
   "id": "3876059b-77d0-4ba7-86dd-6748c376d848",
   "metadata": {},
   "outputs": [
    {
     "data": {
      "text/plain": [
       "torch.Size([1, 256, 256])"
      ]
     },
     "execution_count": 13,
     "metadata": {},
     "output_type": "execute_result"
    }
   ],
   "source": [
    "image.shape"
   ]
  },
  {
   "cell_type": "markdown",
   "id": "3ffd1d40-b574-44de-8d00-425c30a0bda2",
   "metadata": {},
   "source": [
    "# Loading the dataset into PyTorch"
   ]
  },
  {
   "cell_type": "code",
   "execution_count": 14,
   "id": "7b8b027a-5101-4fda-98dc-f29ea1c0e2a5",
   "metadata": {},
   "outputs": [],
   "source": [
    "batch_size = 4"
   ]
  },
  {
   "cell_type": "code",
   "execution_count": 15,
   "id": "d76c2f4b-daa8-4f53-9ad9-6f7fe1b260e2",
   "metadata": {},
   "outputs": [],
   "source": [
    "trainloader = torch.utils.data.DataLoader(trainset, batch_size=batch_size, shuffle=True, num_workers=12)"
   ]
  },
  {
   "cell_type": "code",
   "execution_count": 16,
   "id": "8e1f65f7-6732-46b5-aaea-3ea564c52e93",
   "metadata": {},
   "outputs": [],
   "source": [
    "classes = ['Condition A', 'Condition B']"
   ]
  },
  {
   "cell_type": "code",
   "execution_count": 17,
   "id": "71df398a-bea5-4571-be0e-7d8e0d330a7b",
   "metadata": {},
   "outputs": [],
   "source": [
    "# functions to show an image\n",
    "def imshow(img):\n",
    "    npimg = img.numpy()\n",
    "    plt.imshow(np.transpose(npimg, (1, 2, 0)))\n",
    "    #plt.imshow(npimg)\n",
    "    plt.show()\n",
    "\n",
    "dataiter = iter(trainloader)\n",
    "labels, images = dataiter.next()"
   ]
  },
  {
   "cell_type": "markdown",
   "id": "d2a90524-5c99-4d87-958c-48d438d2c322",
   "metadata": {},
   "source": [
    "Check a sample of train dataloader"
   ]
  },
  {
   "cell_type": "code",
   "execution_count": 18,
   "id": "0d845fee-5277-4262-a3bc-ab57f4e2c9c2",
   "metadata": {},
   "outputs": [
    {
     "data": {
      "image/png": "[encoded data removed]",
      "text/plain": [
       "<Figure size 432x288 with 1 Axes>"
      ]
     },
     "metadata": {
      "needs_background": "light"
     },
     "output_type": "display_data"
    },
    {
     "name": "stdout",
     "output_type": "stream",
     "text": [
      "Condition A Condition A Condition A Condition B\n"
     ]
    }
   ],
   "source": [
    "# show images\n",
    "imshow(torchvision.utils.make_grid(images))\n",
    "# print labels\n",
    "print(' '.join(f'{classes[labels[j]]:5s}' for j in range(batch_size)))"
   ]
  },
  {
   "cell_type": "markdown",
   "id": "283ec5cf-2cc6-472c-92bf-004c8033e345",
   "metadata": {},
   "source": [
    "And also check a sample of the test dataloader"
   ]
  },
  {
   "cell_type": "code",
   "execution_count": 19,
   "id": "764e27c9-de9f-4ac0-af6a-85504f692d2f",
   "metadata": {},
   "outputs": [],
   "source": [
    "testloader = torch.utils.data.DataLoader(testset, batch_size=batch_size, shuffle=False, num_workers=12)\n",
    "dataiter = iter(testloader)\n",
    "labels, images = dataiter.next()"
   ]
  },
  {
   "cell_type": "markdown",
   "id": "2aa30ec1-fa8d-4958-8171-888880488bce",
   "metadata": {},
   "source": [
    "Define network"
   ]
  },
  {
   "cell_type": "code",
   "execution_count": 20,
   "id": "8d433116-2884-4869-9435-7ff38c6d8464",
   "metadata": {},
   "outputs": [],
   "source": [
    "class LinearNet(nn.Module):\n",
    "    '''\n",
    "    Minimal 2-layer artificial neural network\n",
    "    '''\n",
    "    def __init__(self, num_classes: int = 2, dropout: float = 0.5) -> None:\n",
    "        super().__init__()\n",
    "        self.features = nn.Sequential(\n",
    "            nn.Linear(256*256, 16, bias=True),\n",
    "            nn.ReLU(),\n",
    "            nn.Linear(16, num_classes)\n",
    "        )\n",
    "\n",
    "    def forward(self, x: torch.Tensor) -> torch.Tensor:\n",
    "        x = torch.flatten(x, 1)\n",
    "        x = self.features(x)\n",
    "        return x"
   ]
  },
  {
   "cell_type": "code",
   "execution_count": 21,
   "id": "d4e9756d-dfd1-4bc8-95d4-ac42537348e6",
   "metadata": {},
   "outputs": [],
   "source": [
    "net = LinearNet(num_classes=2)"
   ]
  },
  {
   "cell_type": "code",
   "execution_count": 22,
   "id": "2cfd0a17-e37a-4411-98fd-c30da9c620db",
   "metadata": {},
   "outputs": [],
   "source": [
    "# use GPU acceleration if available\n",
    "if torch.cuda.is_available():\n",
    "    net = net.cuda()"
   ]
  },
  {
   "cell_type": "markdown",
   "id": "1230a9d7-2efc-4adc-8cb8-e601c24f3a98",
   "metadata": {},
   "source": [
    "Define loss and optimizer"
   ]
  },
  {
   "cell_type": "code",
   "execution_count": 23,
   "id": "ab8accc1-65fe-4d22-a586-41a492508e2c",
   "metadata": {},
   "outputs": [],
   "source": [
    "criterion = nn.CrossEntropyLoss()\n",
    "optimizer = optim.Adam(net.parameters(), lr=1e-3)"
   ]
  },
  {
   "cell_type": "code",
   "execution_count": 24,
   "id": "50132dc6-d745-47e5-8235-afe2750853ab",
   "metadata": {},
   "outputs": [
    {
     "name": "stdout",
     "output_type": "stream",
     "text": [
      "Epoch 1, loss: 478.929\n",
      "\tTest Accuracy: 93.000 %\n",
      "Epoch 2, loss: 80.642\n",
      "\tTest Accuracy: 95.500 %\n",
      "Epoch 3, loss: 42.718\n",
      "\tTest Accuracy: 97.500 %\n",
      "Epoch 4, loss: 58.281\n",
      "\tTest Accuracy: 94.000 %\n",
      "Epoch 5, loss: 48.057\n",
      "\tTest Accuracy: 96.500 %\n",
      "Epoch 6, loss: 30.120\n",
      "\tTest Accuracy: 96.000 %\n",
      "Epoch 7, loss: 59.070\n",
      "\tTest Accuracy: 91.500 %\n",
      "Epoch 8, loss: 65.774\n",
      "\tTest Accuracy: 93.000 %\n",
      "Epoch 9, loss: 30.856\n",
      "\tTest Accuracy: 97.000 %\n",
      "Epoch 10, loss: 42.115\n",
      "\tTest Accuracy: 97.500 %\n"
     ]
    }
   ],
   "source": [
    "for epoch in range(10):\n",
    "    running_loss = 0.0\n",
    "    for i, data in enumerate(trainloader, 0):\n",
    "        labels, images = data\n",
    "        images = 2 * (images - 0.5002) # [0-1] to [-1,1]\n",
    "        if torch.cuda.is_available():\n",
    "            images = images.cuda()\n",
    "            labels = labels.cuda()\n",
    "        optimizer.zero_grad()\n",
    "        outputs = net(images)\n",
    "        loss = criterion(outputs, labels)\n",
    "        loss.backward()\n",
    "        optimizer.step()\n",
    "        \n",
    "        running_loss += loss.item()\n",
    "    print(f\"Epoch {epoch + 1}, loss: {running_loss:.3f}\")\n",
    "    running_loss = 0.0\n",
    "    with torch.no_grad():\n",
    "        correct = 0\n",
    "        total = 0\n",
    "        for i,data in enumerate(testloader,0):\n",
    "            labels, images = data\n",
    "            images = 2 * (images - 0.5002)\n",
    "            if torch.cuda.is_available():\n",
    "                images = images.cuda()\n",
    "                labels = labels.cuda()\n",
    "            outputs = net(images)\n",
    "            softmax_labels = F.log_softmax(outputs, dim=1)\n",
    "            preds_classes = torch.argmax(softmax_labels, axis=-1)\n",
    "            correct += int(torch.sum(preds_classes.cpu() == labels.cpu()))\n",
    "            total += batch_size\n",
    "        print(f\"\\tTest Accuracy: {100*correct/total:.3f} %\")"
   ]
  },
  {
   "cell_type": "code",
   "execution_count": null,
   "id": "c2727684-f94a-4e52-b909-088384fcc352",
   "metadata": {},
   "outputs": [],
   "source": []
  }
 ],
 "metadata": {
  "kernelspec": {
   "display_name": "Python 3 (ipykernel)",
   "language": "python",
   "name": "python3"
  },
  "language_info": {
   "codemirror_mode": {
    "name": "ipython",
    "version": 3
   },
   "file_extension": ".py",
   "mimetype": "text/x-python",
   "name": "python",
   "nbconvert_exporter": "python",
   "pygments_lexer": "ipython3",
   "version": "3.8.10"
  }
 },
 "nbformat": 4,
 "nbformat_minor": 5
}
